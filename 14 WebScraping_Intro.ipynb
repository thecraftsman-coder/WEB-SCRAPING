{
 "cells": [
  {
   "cell_type": "markdown",
   "metadata": {},
   "source": [
    "<center>\n",
    "    <img src=\"https://gitlab.com/ibm/skills-network/courses/placeholder101/-/raw/master/labs/module%201/images/IDSNlogo.png\" width=\"300\" alt=\"cognitiveclass.ai logo\"  />\n",
    "</center>\n"
   ]
  },
  {
   "cell_type": "markdown",
   "metadata": {},
   "source": [
    "# **Web Scraping Lab**\n"
   ]
  },
  {
   "cell_type": "markdown",
   "metadata": {},
   "source": [
    "Estimated time needed: **30** minutes\n"
   ]
  },
  {
   "cell_type": "markdown",
   "metadata": {},
   "source": [
    "## Objectives\n"
   ]
  },
  {
   "cell_type": "markdown",
   "metadata": {},
   "source": [
    "After completing this lab you will be able to:\n"
   ]
  },
  {
   "cell_type": "markdown",
   "metadata": {},
   "source": [
    "<h2>Table of Contents</h2>\n",
    "<div class=\"alert alert-block alert-info\" style=\"margin-top: 20px\">\n",
    "    <ul>\n",
    "        <li>\n",
    "            <a href=\"BSO\">Beautiful Soup Object</a>\n",
    "            <ul>\n",
    "                <li>Tag</li>\n",
    "                <li>Children, Parents, and Siblings</li>\n",
    "                <li>HTML Attributes</li>\n",
    "                <li>Navigable String</li>\n",
    "            </ul>\n",
    "        </li>\n",
    "     </ul>\n",
    "    <ul>\n",
    "        <li>\n",
    "            <a href=\"filter\">Filter</a>\n",
    "            <ul>\n",
    "                <li>find All</li>\n",
    "                <li>find </li>\n",
    "                <li>HTML Attributes</li>\n",
    "                <li>Navigable String</li>\n",
    "            </ul>\n",
    "        </li>\n",
    "     </ul>\n",
    "     <ul>\n",
    "        <li>\n",
    "            <a href=\"DSCW\">Downloading And Scraping The Contents Of A Web</a>\n",
    "    </li>\n",
    "         </ul>\n",
    "    <p>\n",
    "        Estimated time needed: <strong>25 min</strong>\n",
    "    </p>\n",
    "    \n",
    "</div>\n",
    "\n",
    "<hr>\n"
   ]
  },
  {
   "cell_type": "markdown",
   "metadata": {},
   "source": [
    "\n"
   ]
  },
  {
   "cell_type": "markdown",
   "metadata": {},
   "source": [
    "For this lab, we are going to be using Python and several Python libraries. Some of these libraries might be installed in your lab environment or in SN Labs. Others may need to be installed by you. The cells below will install these libraries when executed.\n"
   ]
  },
  {
   "cell_type": "code",
   "execution_count": null,
   "metadata": {},
   "outputs": [],
   "source": [
    "!pip install bs4\n",
    "#!pip install requests"
   ]
  },
  {
   "cell_type": "markdown",
   "metadata": {},
   "source": [
    "Import the required modules and functions\n"
   ]
  },
  {
   "cell_type": "code",
   "execution_count": 1,
   "metadata": {},
   "outputs": [],
   "source": [
    "from bs4 import BeautifulSoup # this module helps in web scrapping.\n",
    "import requests  # this module helps us to download a web page"
   ]
  },
  {
   "cell_type": "markdown",
   "metadata": {},
   "source": [
    "<h2 id=\"BSO\">Beautiful Soup Objects</h2>\n"
   ]
  },
  {
   "cell_type": "markdown",
   "metadata": {},
   "source": [
    "Beautiful Soup is a Python library for pulling data out of HTML and XML files, we will focus on HTML files. This is accomplished by representing the HTML as a set of objects with methods used to parse the HTML.  We can navigate the HTML as a tree and/or filter out what we are looking for.  \n",
    "\n",
    "Consider the following HTML:\n"
   ]
  },
  {
   "cell_type": "code",
   "execution_count": null,
   "metadata": {},
   "outputs": [],
   "source": [
    "%%html\n",
    "<!DOCTYPE html>\n",
    "<html>\n",
    "<head>\n",
    "<title>Page Title</title>\n",
    "</head>\n",
    "<body>\n",
    "<h3><b id='boldest'>Lebron James</b></h3>\n",
    "<p> Salary: $ 92,000,000 </p>\n",
    "<h3> Stephen Curry</h3>\n",
    "<p> Salary: $85,000, 000 </p>\n",
    "<h3> Kevin Durant </h3>\n",
    "<p> Salary: $73,200, 000</p>\n",
    "</body>\n",
    "</html>"
   ]
  },
  {
   "cell_type": "markdown",
   "metadata": {},
   "source": [
    "We can store it as a string in the variable HTML:\n"
   ]
  },
  {
   "cell_type": "code",
   "execution_count": null,
   "metadata": {},
   "outputs": [],
   "source": [
    "html=\"<!DOCTYPE html><html><head><title>Page Title</title></head><body><h3><b id='boldest'>Lebron James</b></h3><p> Salary: $ 92,000,000 </p><h3> Stephen Curry</h3><p> Salary: $85,000, 000 </p><h3> Kevin Durant </h3><p> Salary: $73,200, 000</p></body></html>\""
   ]
  },
  {
   "cell_type": "markdown",
   "metadata": {},
   "source": [
    "To parse a document, pass it into the <code>BeautifulSoup</code> constructor, the <code>BeautifulSoup</code> object, which represents the document as a nested data structure:\n"
   ]
  },
  {
   "cell_type": "code",
   "execution_count": null,
   "metadata": {},
   "outputs": [],
   "source": [
    "soup = BeautifulSoup(html, 'html5lib')"
   ]
  },
  {
   "cell_type": "markdown",
   "metadata": {},
   "source": [
    "First, the document is converted to Unicode, (similar to ASCII),  and HTML entities are converted to Unicode characters. Beautiful Soup transforms a complex HTML document into a complex tree of Python objects. The <code>BeautifulSoup</code> object can create other types of objects. In this lab, we will cover <code>BeautifulSoup</code> and <code>Tag</code> objects that for the purposes of this lab are identical, and <code>NavigableString</code> objects.\n"
   ]
  },
  {
   "cell_type": "markdown",
   "metadata": {},
   "source": [
    "We can use the method <code>prettify()</code> to display the HTML in the nested structure:\n"
   ]
  },
  {
   "cell_type": "code",
   "execution_count": null,
   "metadata": {},
   "outputs": [],
   "source": [
    "print(soup.prettify())"
   ]
  },
  {
   "cell_type": "markdown",
   "metadata": {},
   "source": [
    "## Tags\n"
   ]
  },
  {
   "cell_type": "markdown",
   "metadata": {},
   "source": [
    "Let's say we want the  title of the page and the name of the top paid player we can use the <code>Tag</code>. The <code>Tag</code> object corresponds to an HTML tag in the original document, for example, the tag title.\n"
   ]
  },
  {
   "cell_type": "code",
   "execution_count": null,
   "metadata": {},
   "outputs": [],
   "source": [
    "soup.find('b', id='boldest')"
   ]
  },
  {
   "cell_type": "code",
   "execution_count": null,
   "metadata": {},
   "outputs": [],
   "source": [
    "tag_object=soup.title\n",
    "print(\"tag object:\",tag_object)"
   ]
  },
  {
   "cell_type": "markdown",
   "metadata": {},
   "source": [
    "we can see the tag type <code>bs4.element.Tag</code>\n"
   ]
  },
  {
   "cell_type": "code",
   "execution_count": null,
   "metadata": {},
   "outputs": [],
   "source": [
    "print(\"tag object type:\",type(tag_object))"
   ]
  },
  {
   "cell_type": "markdown",
   "metadata": {},
   "source": [
    "If there is more than one <code>Tag</code>  with the same name, the first element with that <code>Tag</code> name is called, this corresponds to the most paid player: \n"
   ]
  },
  {
   "cell_type": "code",
   "execution_count": null,
   "metadata": {},
   "outputs": [],
   "source": [
    "tag_object=soup.h3\n",
    "tag_object"
   ]
  },
  {
   "cell_type": "markdown",
   "metadata": {},
   "source": [
    "Enclosed in the bold attribute <code>b</code>, it helps to use the tree representation. We can navigate down the tree using the child attribute to get the name. \n"
   ]
  },
  {
   "cell_type": "markdown",
   "metadata": {},
   "source": [
    "### Children, Parents, and Siblings\n"
   ]
  },
  {
   "cell_type": "markdown",
   "metadata": {},
   "source": [
    "As stated above the <code>Tag</code> object is a tree of objects we can access the child of the tag or navigate down the branch as follows:\n"
   ]
  },
  {
   "cell_type": "code",
   "execution_count": null,
   "metadata": {},
   "outputs": [],
   "source": [
    "#playing around\n",
    "\n",
    "soup.h3.b"
   ]
  },
  {
   "cell_type": "code",
   "execution_count": null,
   "metadata": {},
   "outputs": [],
   "source": [
    "tag_child =tag_object.b\n",
    "tag_child"
   ]
  },
  {
   "cell_type": "markdown",
   "metadata": {},
   "source": [
    "You can access the parent with the <code> parent</code>\n"
   ]
  },
  {
   "cell_type": "code",
   "execution_count": null,
   "metadata": {},
   "outputs": [],
   "source": [
    "soup.find('h3').next_sibling"
   ]
  },
  {
   "cell_type": "code",
   "execution_count": null,
   "metadata": {},
   "outputs": [],
   "source": [
    "parent_tag=tag_child.parent\n",
    "parent_tag"
   ]
  },
  {
   "cell_type": "markdown",
   "metadata": {},
   "source": [
    "this is identical to \n"
   ]
  },
  {
   "cell_type": "code",
   "execution_count": null,
   "metadata": {},
   "outputs": [],
   "source": [
    "tag_object"
   ]
  },
  {
   "cell_type": "markdown",
   "metadata": {},
   "source": [
    "<code>tag_object</code> parent is the <code>body</code> element.\n"
   ]
  },
  {
   "cell_type": "code",
   "execution_count": null,
   "metadata": {},
   "outputs": [],
   "source": [
    "tag_object.parent"
   ]
  },
  {
   "cell_type": "code",
   "execution_count": null,
   "metadata": {},
   "outputs": [],
   "source": [
    "#playing around\n",
    "#tag object parent's parent\n",
    "\n",
    "soup.body.parent"
   ]
  },
  {
   "cell_type": "markdown",
   "metadata": {},
   "source": [
    "<code>tag_object</code> sibling is the <code>paragraph</code> element\n"
   ]
  },
  {
   "cell_type": "code",
   "execution_count": null,
   "metadata": {},
   "outputs": [],
   "source": [
    "sibling_1=tag_object.next_sibling\n",
    "sibling_1"
   ]
  },
  {
   "cell_type": "markdown",
   "metadata": {},
   "source": [
    "`sibling_2` is the `header` element which is also a sibling of both `sibling_1` and `tag_object`\n"
   ]
  },
  {
   "cell_type": "code",
   "execution_count": null,
   "metadata": {},
   "outputs": [],
   "source": [
    "sibling_2=sibling_1.next_sibling\n",
    "sibling_2"
   ]
  },
  {
   "cell_type": "markdown",
   "metadata": {},
   "source": [
    "<h3 id=\"first_question\">Exercise: <code>next_sibling</code></h3>\n"
   ]
  },
  {
   "cell_type": "markdown",
   "metadata": {},
   "source": [
    "Using the object <code>sibling_2</code> and the method <code>next_sibling</code> to find the salary of Stephen Curry:\n"
   ]
  },
  {
   "cell_type": "code",
   "execution_count": null,
   "metadata": {},
   "outputs": [],
   "source": []
  },
  {
   "cell_type": "markdown",
   "metadata": {},
   "source": [
    "<details><summary>Click here for the solution</summary>\n",
    "\n",
    "```\n",
    "sibling_2.next_sibling\n",
    "\n",
    "```\n",
    "\n",
    "</details>\n"
   ]
  },
  {
   "cell_type": "markdown",
   "metadata": {},
   "source": [
    "### HTML Attributes\n"
   ]
  },
  {
   "cell_type": "markdown",
   "metadata": {},
   "source": [
    "If the tag has attributes, the tag <code>id=\"boldest\"</code> has an attribute <code>id</code> whose value is <code>boldest</code>. You can access a tag’s attributes by treating the tag like a dictionary:\n"
   ]
  },
  {
   "cell_type": "code",
   "execution_count": null,
   "metadata": {},
   "outputs": [],
   "source": [
    "tag_child['id']"
   ]
  },
  {
   "cell_type": "markdown",
   "metadata": {},
   "source": [
    "You can access that dictionary directly as <code>attrs</code>:\n"
   ]
  },
  {
   "cell_type": "code",
   "execution_count": null,
   "metadata": {},
   "outputs": [],
   "source": [
    "tag_child.attrs"
   ]
  },
  {
   "cell_type": "markdown",
   "metadata": {},
   "source": [
    "You can also work with Multi-valued attribute check out <a href=\"https://www.crummy.com/software/BeautifulSoup/bs4/doc/\">[1]</a> for more.\n"
   ]
  },
  {
   "cell_type": "markdown",
   "metadata": {},
   "source": [
    "We can also obtain the content if the attribute of the <code>tag</code> using the Python <code>get()</code> method.\n"
   ]
  },
  {
   "cell_type": "code",
   "execution_count": null,
   "metadata": {},
   "outputs": [],
   "source": [
    "tag_child.get('id')"
   ]
  },
  {
   "cell_type": "markdown",
   "metadata": {},
   "source": [
    "### Navigable String\n"
   ]
  },
  {
   "cell_type": "markdown",
   "metadata": {},
   "source": [
    "A string corresponds to a bit of text or content within a tag. Beautiful Soup uses the <code>NavigableString</code> class to contain this text. In our HTML we can obtain the name of the first player by extracting the sting of the <code>Tag</code> object <code>tag_child</code> as follows:\n"
   ]
  },
  {
   "cell_type": "code",
   "execution_count": null,
   "metadata": {},
   "outputs": [],
   "source": [
    "tag_string=tag_child.string\n",
    "tag_string"
   ]
  },
  {
   "cell_type": "markdown",
   "metadata": {},
   "source": [
    "we can verify the type is Navigable String\n"
   ]
  },
  {
   "cell_type": "code",
   "execution_count": null,
   "metadata": {},
   "outputs": [],
   "source": [
    "type(tag_string)"
   ]
  },
  {
   "cell_type": "markdown",
   "metadata": {},
   "source": [
    "A NavigableString is just like a Python string or Unicode string, to be more precise. The main difference is that it also supports some  <code>BeautifulSoup</code> features. We can covert it to string object in Python:\n"
   ]
  },
  {
   "cell_type": "code",
   "execution_count": null,
   "metadata": {},
   "outputs": [],
   "source": [
    "unicode_string = str(tag_string)\n",
    "unicode_string"
   ]
  },
  {
   "cell_type": "markdown",
   "metadata": {},
   "source": [
    "<h2 id=\"filter\">Filter</h2>\n"
   ]
  },
  {
   "cell_type": "markdown",
   "metadata": {},
   "source": [
    "Filters allow you to find complex patterns, the simplest filter is a string. In this section we will pass a string to a different filter method and Beautiful Soup will perform a match against that exact string.  Consider the following HTML of rocket launchs:\n"
   ]
  },
  {
   "cell_type": "code",
   "execution_count": null,
   "metadata": {},
   "outputs": [],
   "source": [
    "%%html\n",
    "<table>\n",
    "  <tr>\n",
    "    <td id='flight' >Flight No</td>\n",
    "    <td>Launch site</td> \n",
    "    <td>Payload mass</td>\n",
    "   </tr>\n",
    "  <tr> \n",
    "    <td>1</td>\n",
    "    <td><a href='https://en.wikipedia.org/wiki/Florida'>Florida</a></td>\n",
    "    <td>300 kg</td>\n",
    "  </tr>\n",
    "  <tr>\n",
    "    <td>2</td>\n",
    "    <td><a href='https://en.wikipedia.org/wiki/Texas'>Texas</a></td>\n",
    "    <td>94 kg</td>\n",
    "  </tr>\n",
    "  <tr>\n",
    "    <td>3</td>\n",
    "    <td><a href='https://en.wikipedia.org/wiki/Florida'>Florida<a> </td>\n",
    "    <td>80 kg</td>\n",
    "  </tr>\n",
    "</table>"
   ]
  },
  {
   "cell_type": "markdown",
   "metadata": {},
   "source": [
    "We can store it as a string in the variable <code>table</code>:\n"
   ]
  },
  {
   "cell_type": "code",
   "execution_count": null,
   "metadata": {},
   "outputs": [],
   "source": [
    "table=\"<table><tr><td id='flight'>Flight No</td><td>Launch site</td> <td>Payload mass</td></tr><tr> <td>1</td><td><a href='https://en.wikipedia.org/wiki/Florida'>Florida<a></td><td>300 kg</td></tr><tr><td>2</td><td><a href='https://en.wikipedia.org/wiki/Texas'>Texas</a></td><td>94 kg</td></tr><tr><td>3</td><td><a href='https://en.wikipedia.org/wiki/Florida'>Florida<a> </td><td>80 kg</td></tr></table>\""
   ]
  },
  {
   "cell_type": "code",
   "execution_count": null,
   "metadata": {},
   "outputs": [],
   "source": [
    "table_bs = BeautifulSoup(table, 'html5lib')"
   ]
  },
  {
   "cell_type": "markdown",
   "metadata": {},
   "source": [
    "## find All\n"
   ]
  },
  {
   "cell_type": "markdown",
   "metadata": {},
   "source": [
    "The <code>find_all()</code> method looks through a tag’s descendants and retrieves all descendants that match your filters. \n",
    "\n",
    "<p>\n",
    "The Method signature for <code>find_all(name, attrs, recursive, string, limit, **kwargs)<c/ode>\n",
    "</p>\n",
    " \n"
   ]
  },
  {
   "cell_type": "markdown",
   "metadata": {},
   "source": [
    "### Name\n"
   ]
  },
  {
   "cell_type": "markdown",
   "metadata": {},
   "source": [
    "When we set the <code>name</code> parameter to a tag name, the method will extract all the tags with that name and its children.\n"
   ]
  },
  {
   "cell_type": "code",
   "execution_count": null,
   "metadata": {},
   "outputs": [],
   "source": [
    "table_rows=table_bs.find_all('tr')\n",
    "table_rows"
   ]
  },
  {
   "cell_type": "markdown",
   "metadata": {},
   "source": [
    "The result is a Python Iterable just like a list, each element is a <code>tag</code> object:\n"
   ]
  },
  {
   "cell_type": "code",
   "execution_count": null,
   "metadata": {},
   "outputs": [],
   "source": [
    "first_row =table_rows[0]\n",
    "first_row"
   ]
  },
  {
   "cell_type": "markdown",
   "metadata": {},
   "source": [
    "The type is <code>tag</code>\n"
   ]
  },
  {
   "cell_type": "code",
   "execution_count": null,
   "metadata": {},
   "outputs": [],
   "source": [
    "print(type(first_row))"
   ]
  },
  {
   "cell_type": "markdown",
   "metadata": {},
   "source": [
    "we can obtain the child \n"
   ]
  },
  {
   "cell_type": "code",
   "execution_count": null,
   "metadata": {},
   "outputs": [],
   "source": [
    "first_row.td"
   ]
  },
  {
   "cell_type": "markdown",
   "metadata": {},
   "source": [
    "If we iterate through the list, each element corresponds to a row in the table:\n"
   ]
  },
  {
   "cell_type": "code",
   "execution_count": null,
   "metadata": {},
   "outputs": [],
   "source": [
    "for i,row in enumerate(table_rows):\n",
    "    print(\"row\",i,\"is\",row)\n",
    "    "
   ]
  },
  {
   "cell_type": "markdown",
   "metadata": {},
   "source": [
    "As <code>row</code> is a <code>cell</code> object, we can apply the method <code>find_all</code> to it and extract table cells in the object <code>cells</code> using the tag <code>td</code>, this is all the children with the name <code>td</code>. The result is a list, each element corresponds to a cell and is a <code>Tag</code> object, we can iterate through this list as well. We can extract the content using the <code>string</code>  attribute.\n"
   ]
  },
  {
   "cell_type": "code",
   "execution_count": null,
   "metadata": {},
   "outputs": [],
   "source": [
    "for i,row in enumerate(table_rows):\n",
    "    print(\"row\",i)\n",
    "    cells=row.find_all('td')\n",
    "    for j,cell in enumerate(cells):\n",
    "        print('colunm',j,\"cell\",cell)"
   ]
  },
  {
   "cell_type": "markdown",
   "metadata": {},
   "source": [
    "If we use a list we can match against any item in that list.\n"
   ]
  },
  {
   "cell_type": "code",
   "execution_count": null,
   "metadata": {},
   "outputs": [],
   "source": [
    "list_input=table_bs .find_all(name=[\"tr\", \"td\"])\n",
    "list_input"
   ]
  },
  {
   "cell_type": "markdown",
   "metadata": {},
   "source": [
    "## Attributes\n"
   ]
  },
  {
   "cell_type": "markdown",
   "metadata": {},
   "source": [
    "If the argument is not recognized it will be turned into a filter on the tag’s attributes. For example the <code>id</code>  argument, Beautiful Soup will filter against each tag’s <code>id</code> attribute. For example, the first <code>td</code> elements have a value of <code>id</code> of <code>flight</code>, therefore we can filter based on that <code>id</code> value. \n"
   ]
  },
  {
   "cell_type": "code",
   "execution_count": null,
   "metadata": {},
   "outputs": [],
   "source": [
    "table_bs.find_all(id=\"flight\")"
   ]
  },
  {
   "cell_type": "markdown",
   "metadata": {},
   "source": [
    "We can find all the elements that have links to the Florida Wikipedia page:\n"
   ]
  },
  {
   "cell_type": "code",
   "execution_count": null,
   "metadata": {},
   "outputs": [],
   "source": [
    "list_input=table_bs.find_all(href=\"https://en.wikipedia.org/wiki/Florida\")\n",
    "list_input"
   ]
  },
  {
   "cell_type": "markdown",
   "metadata": {},
   "source": [
    "If we set the  <code>href</code> attribute to True, regardless of what the value is, the code finds all tags with <code>href</code> value:\n"
   ]
  },
  {
   "cell_type": "code",
   "execution_count": null,
   "metadata": {},
   "outputs": [],
   "source": [
    "table_bs.find_all(href=True)"
   ]
  },
  {
   "cell_type": "markdown",
   "metadata": {},
   "source": [
    "There are other methods for dealing with attributes and other related methods; Check out the following <a href='https://www.crummy.com/software/BeautifulSoup/bs4/doc/#css-selectors'>link</a>\n"
   ]
  },
  {
   "cell_type": "markdown",
   "metadata": {},
   "source": [
    "<h3 id=\"exer_type\">Exercise: <code>find_all</code></h3>\n"
   ]
  },
  {
   "cell_type": "markdown",
   "metadata": {},
   "source": [
    "Using the logic above, find all the elements without <code>href</code> value \n"
   ]
  },
  {
   "cell_type": "markdown",
   "metadata": {},
   "source": [
    "<details><summary>Click here for the solution</summary>\n",
    "\n",
    "```\n",
    "table_bs.find_all(href=False)\n",
    "\n",
    "```\n",
    "\n",
    "</details>\n"
   ]
  },
  {
   "cell_type": "markdown",
   "metadata": {},
   "source": [
    "Using the soup object <code>soup</code>, find the element with the <code>id</code> attribute content set to <code>\"boldest\"</code>. \n"
   ]
  },
  {
   "cell_type": "markdown",
   "metadata": {},
   "source": [
    "<details><summary>Click here for the solution</summary>\n",
    "\n",
    "```\n",
    "soup.find_all(id=\"boldest\")\n",
    "\n",
    "```\n",
    "\n",
    "</details>\n"
   ]
  },
  {
   "cell_type": "markdown",
   "metadata": {},
   "source": [
    "### string\n"
   ]
  },
  {
   "cell_type": "markdown",
   "metadata": {},
   "source": [
    "With string you can search for strings instead of tags, where we find all the elements with Florida:\n"
   ]
  },
  {
   "cell_type": "code",
   "execution_count": null,
   "metadata": {},
   "outputs": [],
   "source": [
    "table_bs.find_all(string=\"Florida\")"
   ]
  },
  {
   "cell_type": "markdown",
   "metadata": {},
   "source": [
    "## find\n"
   ]
  },
  {
   "cell_type": "markdown",
   "metadata": {},
   "source": [
    "The <code>find_all()</code> method scans the entire document looking for results, it’s if you are looking for one element you can use the <code>find()</code> method to find the first element in the document. Consider the following two table:\n"
   ]
  },
  {
   "cell_type": "code",
   "execution_count": null,
   "metadata": {},
   "outputs": [],
   "source": [
    "%%html\n",
    "<h3>Rocket Launch </h3>\n",
    "\n",
    "<p>\n",
    "<table class='rocket'>\n",
    "  <tr>\n",
    "    <td>Flight No</td>\n",
    "    <td>Launch site</td> \n",
    "    <td>Payload mass</td>\n",
    "  </tr>\n",
    "  <tr>\n",
    "    <td>1</td>\n",
    "    <td>Florida</td>\n",
    "    <td>300 kg</td>\n",
    "  </tr>\n",
    "  <tr>\n",
    "    <td>2</td>\n",
    "    <td>Texas</td>\n",
    "    <td>94 kg</td>\n",
    "  </tr>\n",
    "  <tr>\n",
    "    <td>3</td>\n",
    "    <td>Florida </td>\n",
    "    <td>80 kg</td>\n",
    "  </tr>\n",
    "</table>\n",
    "</p>\n",
    "<p>\n",
    "\n",
    "<h3>Pizza Party  </h3>\n",
    "  \n",
    "    \n",
    "<table class='pizza'>\n",
    "  <tr>\n",
    "    <td>Pizza Place</td>\n",
    "    <td>Orders</td> \n",
    "    <td>Slices </td>\n",
    "   </tr>\n",
    "  <tr>\n",
    "    <td>Domino's Pizza</td>\n",
    "    <td>10</td>\n",
    "    <td>100</td>\n",
    "  </tr>\n",
    "  <tr>\n",
    "    <td>Little Caesars</td>\n",
    "    <td>12</td>\n",
    "    <td >144 </td>\n",
    "  </tr>\n",
    "  <tr>\n",
    "    <td>Papa John's </td>\n",
    "    <td>15 </td>\n",
    "    <td>165</td>\n",
    "  </tr>\n"
   ]
  },
  {
   "cell_type": "markdown",
   "metadata": {},
   "source": [
    "We store the HTML as a Python string and assign <code>two_tables</code>:\n"
   ]
  },
  {
   "cell_type": "code",
   "execution_count": null,
   "metadata": {},
   "outputs": [],
   "source": [
    "two_tables=\"<h3>Rocket Launch </h3><p><table class='rocket'><tr><td>Flight No</td><td>Launch site</td> <td>Payload mass</td></tr><tr><td>1</td><td>Florida</td><td>300 kg</td></tr><tr><td>2</td><td>Texas</td><td>94 kg</td></tr><tr><td>3</td><td>Florida </td><td>80 kg</td></tr></table></p><p><h3>Pizza Party  </h3><table class='pizza'><tr><td>Pizza Place</td><td>Orders</td> <td>Slices </td></tr><tr><td>Domino's Pizza</td><td>10</td><td>100</td></tr><tr><td>Little Caesars</td><td>12</td><td >144 </td></tr><tr><td>Papa John's </td><td>15 </td><td>165</td></tr>\""
   ]
  },
  {
   "cell_type": "markdown",
   "metadata": {},
   "source": [
    "We create a <code>BeautifulSoup</code> object  <code>two_tables_bs</code>\n"
   ]
  },
  {
   "cell_type": "code",
   "execution_count": null,
   "metadata": {},
   "outputs": [],
   "source": [
    "two_tables_bs= BeautifulSoup(two_tables, 'html.parser')"
   ]
  },
  {
   "cell_type": "markdown",
   "metadata": {},
   "source": [
    "We can find the first table using the tag name table\n"
   ]
  },
  {
   "cell_type": "code",
   "execution_count": null,
   "metadata": {},
   "outputs": [],
   "source": [
    "two_tables_bs.find(\"table\")"
   ]
  },
  {
   "cell_type": "markdown",
   "metadata": {},
   "source": [
    "We can filter on the class attribute to find the second table, but because class is a keyword in Python, we add an underscore.\n"
   ]
  },
  {
   "cell_type": "code",
   "execution_count": null,
   "metadata": {},
   "outputs": [],
   "source": [
    "two_tables_bs.find(\"table\",class_='pizza')"
   ]
  },
  {
   "cell_type": "markdown",
   "metadata": {},
   "source": [
    "<h2 id=\"DSCW\">Downloading And Scraping The Contents Of A Web Page</h2> \n"
   ]
  },
  {
   "cell_type": "markdown",
   "metadata": {},
   "source": [
    "We Download the contents of the web page:\n"
   ]
  },
  {
   "cell_type": "code",
   "execution_count": 2,
   "metadata": {},
   "outputs": [],
   "source": [
    "url = \"http://www.ibm.com\""
   ]
  },
  {
   "cell_type": "code",
   "execution_count": null,
   "metadata": {},
   "outputs": [],
   "source": [
    "url = \"https://www.ibm.com/us-en\""
   ]
  },
  {
   "cell_type": "markdown",
   "metadata": {},
   "source": [
    "We use <code>get</code> to download the contents of the webpage in text format and store in a variable called <code>data</code>:\n"
   ]
  },
  {
   "cell_type": "code",
   "execution_count": 3,
   "metadata": {},
   "outputs": [],
   "source": [
    "data  = requests.get(url).text "
   ]
  },
  {
   "cell_type": "markdown",
   "metadata": {},
   "source": [
    "We create a <code>BeautifulSoup</code> object using the <code>BeautifulSoup</code> constructor \n"
   ]
  },
  {
   "cell_type": "code",
   "execution_count": 4,
   "metadata": {},
   "outputs": [],
   "source": [
    "soup = BeautifulSoup(data,\"html5lib\")  # create a soup object using the variable 'data'"
   ]
  },
  {
   "cell_type": "markdown",
   "metadata": {},
   "source": [
    "Scrape all links\n"
   ]
  },
  {
   "cell_type": "code",
   "execution_count": 6,
   "metadata": {
    "scrolled": true
   },
   "outputs": [
    {
     "name": "stdout",
     "output_type": "stream",
     "text": [
      "<a href=\"https://www.ibm.com/hybrid-cloud?lnk=hpUSbt1\">hybrid cloud infrastructure</a>\n",
      "https://www.ibm.com/hybrid-cloud?lnk=hpUSbt1\n",
      "<a href=\"https://www.ibm.com/consulting\" rel=\"noopener noreferrer\" target=\"_self\">IBM Consulting</a>\n",
      "https://www.ibm.com/consulting\n"
     ]
    }
   ],
   "source": [
    "for link in soup.find_all('a',href=True):  # in html anchor/link is represented by the tag <a>\n",
    "    print(link)\n",
    "    print(link.get('href'))\n"
   ]
  },
  {
   "cell_type": "markdown",
   "metadata": {},
   "source": [
    "### Extra"
   ]
  },
  {
   "cell_type": "code",
   "execution_count": null,
   "metadata": {},
   "outputs": [],
   "source": [
    "!pip install selenium"
   ]
  },
  {
   "cell_type": "code",
   "execution_count": 8,
   "metadata": {},
   "outputs": [],
   "source": [
    "from selenium import webdriver\n",
    "from bs4 import BeautifulSoup\n",
    "\n",
    "# Initialize the WebDriver (e.g., for Chrome)\n",
    "driver = webdriver.Chrome()\n",
    "\n",
    "# Navigate to the page\n",
    "driver.get(\"https://www.ibm.com/us-en\")\n",
    "\n",
    "# Wait for the page to load completely\n",
    "driver.implicitly_wait(5)\n"
   ]
  },
  {
   "cell_type": "code",
   "execution_count": 9,
   "metadata": {},
   "outputs": [
    {
     "name": "stdout",
     "output_type": "stream",
     "text": [
      "\n",
      "Create winning experiences with generative AI\n",
      "\n"
     ]
    }
   ],
   "source": [
    "# Get the page source\n",
    "page_source = driver.page_source\n",
    "\n",
    "# Parse with BeautifulSoup\n",
    "soup = BeautifulSoup(page_source, 'html.parser')\n",
    "\n",
    "# Find the H1 tag\n",
    "heading = soup.find(\"h1\")\n",
    "\n",
    "if heading:\n",
    "    print(heading.get_text())\n",
    "else:\n",
    "    print(\"Heading not found\")\n",
    "\n",
    "# Close the driver\n",
    "driver.quit()"
   ]
  },
  {
   "cell_type": "markdown",
   "metadata": {},
   "source": [
    "### Extra over and out"
   ]
  },
  {
   "cell_type": "markdown",
   "metadata": {},
   "source": [
    "## Scrape  all images  Tags\n"
   ]
  },
  {
   "cell_type": "code",
   "execution_count": 10,
   "metadata": {},
   "outputs": [
    {
     "name": "stdout",
     "output_type": "stream",
     "text": [
      "<img alt=\"close icon\" id=\"truste-domain-close\" src=\"https://consent.trustarc.com/get?name=ibm_close_icon.svg\"/>\n",
      "https://consent.trustarc.com/get?name=ibm_close_icon.svg\n",
      "<img alt=\"close icon\" id=\"truste-consent-close\" role=\"button\" src=\"https://consent.trustarc.com/get?name=ibm_close_icon.svg\"/>\n",
      "https://consent.trustarc.com/get?name=ibm_close_icon.svg\n",
      "<img alt=\"\" aria-hidden=\"true\" height=\"0\" id=\"db_lr_pixel_ad\" src=\"https://id.rlcdn.com/464526.gif\" style=\"display: none;\" width=\"0\"/>\n",
      "https://id.rlcdn.com/464526.gif\n",
      "<img height=\"1\" src=\"https://t.co/1/i/adsct?bci=4&amp;eci=3&amp;event=%7B%7D&amp;event_id=a3b7e566-2a69-4345-8053-53434b5ebea4&amp;integration=advertiser&amp;p_id=Twitter&amp;p_user_id=0&amp;pl_id=b191b543-2e32-4be7-9866-563887d3df8f&amp;tw_document_href=https%3A%2F%2Fwww.ibm.com%2Fus-en&amp;tw_iframe_status=0&amp;txn_id=nuda7&amp;type=javascript&amp;version=2.3.30\" style=\"display: none;\" width=\"1\"/>\n",
      "https://t.co/1/i/adsct?bci=4&eci=3&event=%7B%7D&event_id=a3b7e566-2a69-4345-8053-53434b5ebea4&integration=advertiser&p_id=Twitter&p_user_id=0&pl_id=b191b543-2e32-4be7-9866-563887d3df8f&tw_document_href=https%3A%2F%2Fwww.ibm.com%2Fus-en&tw_iframe_status=0&txn_id=nuda7&type=javascript&version=2.3.30\n",
      "<img height=\"1\" src=\"https://analytics.twitter.com/1/i/adsct?bci=4&amp;eci=3&amp;event=%7B%7D&amp;event_id=a3b7e566-2a69-4345-8053-53434b5ebea4&amp;integration=advertiser&amp;p_id=Twitter&amp;p_user_id=0&amp;pl_id=b191b543-2e32-4be7-9866-563887d3df8f&amp;tw_document_href=https%3A%2F%2Fwww.ibm.com%2Fus-en&amp;tw_iframe_status=0&amp;txn_id=nuda7&amp;type=javascript&amp;version=2.3.30\" style=\"display: none;\" width=\"1\"/>\n",
      "https://analytics.twitter.com/1/i/adsct?bci=4&eci=3&event=%7B%7D&event_id=a3b7e566-2a69-4345-8053-53434b5ebea4&integration=advertiser&p_id=Twitter&p_user_id=0&pl_id=b191b543-2e32-4be7-9866-563887d3df8f&tw_document_href=https%3A%2F%2Fwww.ibm.com%2Fus-en&tw_iframe_status=0&txn_id=nuda7&type=javascript&version=2.3.30\n",
      "<img alt=\"\" height=\"0\" id=\"batBeacon95689023687\" src=\"https://bat.bing.com/action/0?ti=146001191&amp;Ver=2&amp;mid=fabeb243-dd0b-43ff-baf3-e2229da3256c&amp;sid=1374ea806ac211ef98c7858405287975&amp;vid=137521b06ac211efb1bf916fdf70bf90&amp;vids=1&amp;msclkid=N&amp;uach=pv%3D15.0.0&amp;pi=918639831&amp;lg=en-US&amp;sw=1208&amp;sh=680&amp;sc=24&amp;nwd=1&amp;tl=IBM%20-%20United%20States&amp;p=https%3A%2F%2Fwww.ibm.com%2Fus-en&amp;r=&amp;lt=8021&amp;evt=pageLoad&amp;sv=1&amp;cdb=AQwT&amp;rn=51719\" style=\"width: 0px; height: 0px; display: none; visibility: hidden;\" width=\"0\"/>\n",
      "https://bat.bing.com/action/0?ti=146001191&Ver=2&mid=fabeb243-dd0b-43ff-baf3-e2229da3256c&sid=1374ea806ac211ef98c7858405287975&vid=137521b06ac211efb1bf916fdf70bf90&vids=1&msclkid=N&uach=pv%3D15.0.0&pi=918639831&lg=en-US&sw=1208&sh=680&sc=24&nwd=1&tl=IBM%20-%20United%20States&p=https%3A%2F%2Fwww.ibm.com%2Fus-en&r=&lt=8021&evt=pageLoad&sv=1&cdb=AQwT&rn=51719\n"
     ]
    }
   ],
   "source": [
    "for link in soup.find_all('img'):# in html image is represented by the tag <img>\n",
    "    print(link)\n",
    "    print(link.get('src'))"
   ]
  },
  {
   "cell_type": "markdown",
   "metadata": {},
   "source": [
    "## Scrape data from HTML tables\n"
   ]
  },
  {
   "cell_type": "code",
   "execution_count": 11,
   "metadata": {},
   "outputs": [],
   "source": [
    "#The below url contains an html table with data about colors and color codes.\n",
    "url = \"https://cf-courses-data.s3.us.cloud-object-storage.appdomain.cloud/IBM-DA0321EN-SkillsNetwork/labs/datasets/HTMLColorCodes.html\""
   ]
  },
  {
   "cell_type": "markdown",
   "metadata": {},
   "source": [
    "Before proceeding to scrape a web site, you need to examine the contents, and the way data is organized on the website. Open the above url in your browser and check how many rows and columns are there in the color table.\n"
   ]
  },
  {
   "cell_type": "code",
   "execution_count": 12,
   "metadata": {},
   "outputs": [],
   "source": [
    "# get the contents of the webpage in text format and store in a variable called data\n",
    "data  = requests.get(url).text"
   ]
  },
  {
   "cell_type": "code",
   "execution_count": 13,
   "metadata": {},
   "outputs": [],
   "source": [
    "soup = BeautifulSoup(data,\"html5lib\")"
   ]
  },
  {
   "cell_type": "code",
   "execution_count": 14,
   "metadata": {},
   "outputs": [],
   "source": [
    "#find a html table in the web page\n",
    "table = soup.find('table') # in html table is represented by the tag <table>"
   ]
  },
  {
   "cell_type": "code",
   "execution_count": 15,
   "metadata": {},
   "outputs": [
    {
     "name": "stdout",
     "output_type": "stream",
     "text": [
      "Color Name--->None\n",
      "lightsalmon--->#FFA07A\n",
      "salmon--->#FA8072\n",
      "darksalmon--->#E9967A\n",
      "lightcoral--->#F08080\n",
      "coral--->#FF7F50\n",
      "tomato--->#FF6347\n",
      "orangered--->#FF4500\n",
      "gold--->#FFD700\n",
      "orange--->#FFA500\n",
      "darkorange--->#FF8C00\n",
      "lightyellow--->#FFFFE0\n",
      "lemonchiffon--->#FFFACD\n",
      "papayawhip--->#FFEFD5\n",
      "moccasin--->#FFE4B5\n",
      "peachpuff--->#FFDAB9\n",
      "palegoldenrod--->#EEE8AA\n",
      "khaki--->#F0E68C\n",
      "darkkhaki--->#BDB76B\n",
      "yellow--->#FFFF00\n",
      "lawngreen--->#7CFC00\n",
      "chartreuse--->#7FFF00\n",
      "limegreen--->#32CD32\n",
      "lime--->#00FF00\n",
      "forestgreen--->#228B22\n",
      "green--->#008000\n",
      "powderblue--->#B0E0E6\n",
      "lightblue--->#ADD8E6\n",
      "lightskyblue--->#87CEFA\n",
      "skyblue--->#87CEEB\n",
      "deepskyblue--->#00BFFF\n",
      "lightsteelblue--->#B0C4DE\n",
      "dodgerblue--->#1E90FF\n"
     ]
    }
   ],
   "source": [
    "#Get all rows from the table\n",
    "for row in table.find_all('tr'): # in html table row is represented by the tag <tr>\n",
    "    # Get all columns in each row.\n",
    "    cols = row.find_all('td') # in html a column is represented by the tag <td>\n",
    "    color_name = cols[2].string # store the value in column 3 as color_name\n",
    "    color_code = cols[3].string # store the value in column 4 as color_code\n",
    "    print(\"{}--->{}\".format(color_name,color_code))"
   ]
  },
  {
   "cell_type": "markdown",
   "metadata": {},
   "source": [
    "## Scrape data from HTML tables into a DataFrame using BeautifulSoup and Pandas\n"
   ]
  },
  {
   "cell_type": "code",
   "execution_count": 16,
   "metadata": {},
   "outputs": [
    {
     "name": "stderr",
     "output_type": "stream",
     "text": [
      "C:\\Users\\pc\\anaconda3\\lib\\site-packages\\pandas\\core\\arrays\\masked.py:60: UserWarning: Pandas requires version '1.3.6' or newer of 'bottleneck' (version '1.3.5' currently installed).\n",
      "  from pandas.core import (\n"
     ]
    }
   ],
   "source": [
    "import pandas as pd"
   ]
  },
  {
   "cell_type": "code",
   "execution_count": 17,
   "metadata": {},
   "outputs": [],
   "source": [
    "#The below url contains html tables with data about world population.\n",
    "url = \"https://en.wikipedia.org/wiki/World_population\""
   ]
  },
  {
   "cell_type": "markdown",
   "metadata": {},
   "source": [
    "Before proceeding to scrape a web site, you need to examine the contents, and the way data is organized on the website. Open the above url in your browser and check the tables on the webpage.\n"
   ]
  },
  {
   "cell_type": "code",
   "execution_count": 18,
   "metadata": {},
   "outputs": [],
   "source": [
    "# get the contents of the webpage in text format and store in a variable called data\n",
    "data  = requests.get(url).text"
   ]
  },
  {
   "cell_type": "code",
   "execution_count": 19,
   "metadata": {},
   "outputs": [],
   "source": [
    "soup = BeautifulSoup(data,\"html5lib\")"
   ]
  },
  {
   "cell_type": "code",
   "execution_count": 20,
   "metadata": {},
   "outputs": [],
   "source": [
    "#find all html tables in the web page\n",
    "tables = soup.find_all('table') # in html table is represented by the tag <table>"
   ]
  },
  {
   "cell_type": "code",
   "execution_count": 21,
   "metadata": {},
   "outputs": [
    {
     "data": {
      "text/plain": [
       "31"
      ]
     },
     "execution_count": 21,
     "metadata": {},
     "output_type": "execute_result"
    }
   ],
   "source": [
    "# we can see how many tables were found by checking the length of the tables list\n",
    "len(tables)"
   ]
  },
  {
   "cell_type": "markdown",
   "metadata": {},
   "source": [
    "Assume that we are looking for the `10 most densly populated countries` table, we can look through the tables list and find the right one we are look for based on the data in each table or we can search for the table name if it is in the table but this option might not always work.\n"
   ]
  },
  {
   "cell_type": "code",
   "execution_count": 22,
   "metadata": {},
   "outputs": [
    {
     "name": "stdout",
     "output_type": "stream",
     "text": [
      "8\n"
     ]
    }
   ],
   "source": [
    "for index,table in enumerate(tables):\n",
    "    if (\"10 most densely populated countries\" in str(table)):\n",
    "        table_index = index\n",
    "print(table_index)"
   ]
  },
  {
   "cell_type": "markdown",
   "metadata": {},
   "source": [
    "See if you can locate the table name of the table, `10 most densly populated countries`, below.\n"
   ]
  },
  {
   "cell_type": "code",
   "execution_count": 23,
   "metadata": {
    "collapsed": true,
    "jupyter": {
     "outputs_hidden": true
    }
   },
   "outputs": [
    {
     "name": "stdout",
     "output_type": "stream",
     "text": [
      "<table class=\"wikitable sortable\" style=\"text-align:right\">\n",
      " <caption>\n",
      "  10 most densely populated countries\n",
      "  <small>\n",
      "   (with population above 5 million)\n",
      "  </small>\n",
      "  <sup class=\"reference\" id=\"cite_ref-:10_105-0\">\n",
      "   <a href=\"#cite_note-:10-105\">\n",
      "    <span class=\"cite-bracket\">\n",
      "     [\n",
      "    </span>\n",
      "    100\n",
      "    <span class=\"cite-bracket\">\n",
      "     ]\n",
      "    </span>\n",
      "   </a>\n",
      "  </sup>\n",
      " </caption>\n",
      " <tbody>\n",
      "  <tr>\n",
      "   <th scope=\"col\">\n",
      "    Rank\n",
      "   </th>\n",
      "   <th scope=\"col\">\n",
      "    Country\n",
      "   </th>\n",
      "   <th scope=\"col\">\n",
      "    Population\n",
      "   </th>\n",
      "   <th scope=\"col\">\n",
      "    Area\n",
      "    <br/>\n",
      "    <small>\n",
      "     (km\n",
      "     <sup>\n",
      "      2\n",
      "     </sup>\n",
      "     )\n",
      "    </small>\n",
      "   </th>\n",
      "   <th scope=\"col\">\n",
      "    Density\n",
      "    <br/>\n",
      "    <small>\n",
      "     (pop/km\n",
      "     <sup>\n",
      "      2\n",
      "     </sup>\n",
      "     )\n",
      "    </small>\n",
      "   </th>\n",
      "  </tr>\n",
      "  <tr>\n",
      "   <td>\n",
      "    1\n",
      "   </td>\n",
      "   <td align=\"left\">\n",
      "    <span class=\"flagicon\">\n",
      "     <span class=\"mw-image-border\" typeof=\"mw:File\">\n",
      "      <span>\n",
      "       <img alt=\"\" class=\"mw-file-element\" data-file-height=\"600\" data-file-width=\"900\" decoding=\"async\" height=\"15\" src=\"//upload.wikimedia.org/wikipedia/commons/thumb/4/48/Flag_of_Singapore.svg/23px-Flag_of_Singapore.svg.png\" srcset=\"//upload.wikimedia.org/wikipedia/commons/thumb/4/48/Flag_of_Singapore.svg/35px-Flag_of_Singapore.svg.png 1.5x, //upload.wikimedia.org/wikipedia/commons/thumb/4/48/Flag_of_Singapore.svg/45px-Flag_of_Singapore.svg.png 2x\" width=\"23\"/>\n",
      "      </span>\n",
      "     </span>\n",
      "    </span>\n",
      "    <a href=\"/wiki/Singapore\" title=\"Singapore\">\n",
      "     Singapore\n",
      "    </a>\n",
      "   </td>\n",
      "   <td>\n",
      "    5,921,231\n",
      "   </td>\n",
      "   <td>\n",
      "    719\n",
      "   </td>\n",
      "   <td>\n",
      "    8,235\n",
      "   </td>\n",
      "  </tr>\n",
      "  <tr>\n",
      "   <td>\n",
      "    2\n",
      "   </td>\n",
      "   <td align=\"left\">\n",
      "    <span class=\"flagicon\">\n",
      "     <span class=\"mw-image-border\" typeof=\"mw:File\">\n",
      "      <span>\n",
      "       <img alt=\"\" class=\"mw-file-element\" data-file-height=\"600\" data-file-width=\"1000\" decoding=\"async\" height=\"14\" src=\"//upload.wikimedia.org/wikipedia/commons/thumb/f/f9/Flag_of_Bangladesh.svg/23px-Flag_of_Bangladesh.svg.png\" srcset=\"//upload.wikimedia.org/wikipedia/commons/thumb/f/f9/Flag_of_Bangladesh.svg/35px-Flag_of_Bangladesh.svg.png 1.5x, //upload.wikimedia.org/wikipedia/commons/thumb/f/f9/Flag_of_Bangladesh.svg/46px-Flag_of_Bangladesh.svg.png 2x\" width=\"23\"/>\n",
      "      </span>\n",
      "     </span>\n",
      "    </span>\n",
      "    <a href=\"/wiki/Bangladesh\" title=\"Bangladesh\">\n",
      "     Bangladesh\n",
      "    </a>\n",
      "   </td>\n",
      "   <td>\n",
      "    165,650,475\n",
      "   </td>\n",
      "   <td>\n",
      "    148,460\n",
      "   </td>\n",
      "   <td>\n",
      "    1,116\n",
      "   </td>\n",
      "  </tr>\n",
      "  <tr>\n",
      "   <td>\n",
      "    3\n",
      "   </td>\n",
      "   <td align=\"left\">\n",
      "    <p>\n",
      "     <span class=\"flagicon\">\n",
      "      <span class=\"mw-image-border\" typeof=\"mw:File\">\n",
      "       <span>\n",
      "        <img alt=\"\" class=\"mw-file-element\" data-file-height=\"600\" data-file-width=\"1200\" decoding=\"async\" height=\"12\" src=\"//upload.wikimedia.org/wikipedia/commons/thumb/0/00/Flag_of_Palestine.svg/23px-Flag_of_Palestine.svg.png\" srcset=\"//upload.wikimedia.org/wikipedia/commons/thumb/0/00/Flag_of_Palestine.svg/35px-Flag_of_Palestine.svg.png 1.5x, //upload.wikimedia.org/wikipedia/commons/thumb/0/00/Flag_of_Palestine.svg/46px-Flag_of_Palestine.svg.png 2x\" width=\"23\"/>\n",
      "       </span>\n",
      "      </span>\n",
      "     </span>\n",
      "     <a href=\"/wiki/State_of_Palestine\" title=\"State of Palestine\">\n",
      "      Palestine\n",
      "     </a>\n",
      "     <sup class=\"reference\" id=\"cite_ref-106\">\n",
      "      <a href=\"#cite_note-106\">\n",
      "       <span class=\"cite-bracket\">\n",
      "        [\n",
      "       </span>\n",
      "       note 3\n",
      "       <span class=\"cite-bracket\">\n",
      "        ]\n",
      "       </span>\n",
      "      </a>\n",
      "     </sup>\n",
      "     <sup class=\"reference\" id=\"cite_ref-107\">\n",
      "      <a href=\"#cite_note-107\">\n",
      "       <span class=\"cite-bracket\">\n",
      "        [\n",
      "       </span>\n",
      "       101\n",
      "       <span class=\"cite-bracket\">\n",
      "        ]\n",
      "       </span>\n",
      "      </a>\n",
      "     </sup>\n",
      "    </p>\n",
      "   </td>\n",
      "   <td>\n",
      "    5,223,000\n",
      "   </td>\n",
      "   <td>\n",
      "    6,025\n",
      "   </td>\n",
      "   <td>\n",
      "    867\n",
      "   </td>\n",
      "  </tr>\n",
      "  <tr>\n",
      "   <td>\n",
      "    4\n",
      "   </td>\n",
      "   <td align=\"left\">\n",
      "    <span class=\"flagicon\">\n",
      "     <span class=\"mw-image-border\" typeof=\"mw:File\">\n",
      "      <span>\n",
      "       <img alt=\"\" class=\"mw-file-element\" data-file-height=\"600\" data-file-width=\"900\" decoding=\"async\" height=\"15\" src=\"//upload.wikimedia.org/wikipedia/commons/thumb/7/72/Flag_of_the_Republic_of_China.svg/23px-Flag_of_the_Republic_of_China.svg.png\" srcset=\"//upload.wikimedia.org/wikipedia/commons/thumb/7/72/Flag_of_the_Republic_of_China.svg/35px-Flag_of_the_Republic_of_China.svg.png 1.5x, //upload.wikimedia.org/wikipedia/commons/thumb/7/72/Flag_of_the_Republic_of_China.svg/45px-Flag_of_the_Republic_of_China.svg.png 2x\" width=\"23\"/>\n",
      "      </span>\n",
      "     </span>\n",
      "    </span>\n",
      "    <a href=\"/wiki/Taiwan\" title=\"Taiwan\">\n",
      "     Taiwan\n",
      "    </a>\n",
      "    <sup class=\"reference\" id=\"cite_ref-108\">\n",
      "     <a href=\"#cite_note-108\">\n",
      "      <span class=\"cite-bracket\">\n",
      "       [\n",
      "      </span>\n",
      "      note 4\n",
      "      <span class=\"cite-bracket\">\n",
      "       ]\n",
      "      </span>\n",
      "     </a>\n",
      "    </sup>\n",
      "   </td>\n",
      "   <td>\n",
      "    23,580,712\n",
      "   </td>\n",
      "   <td>\n",
      "    35,980\n",
      "   </td>\n",
      "   <td>\n",
      "    655\n",
      "   </td>\n",
      "  </tr>\n",
      "  <tr>\n",
      "   <td>\n",
      "    5\n",
      "   </td>\n",
      "   <td align=\"left\">\n",
      "    <span class=\"flagicon\">\n",
      "     <span class=\"mw-image-border\" typeof=\"mw:File\">\n",
      "      <span>\n",
      "       <img alt=\"\" class=\"mw-file-element\" data-file-height=\"600\" data-file-width=\"900\" decoding=\"async\" height=\"15\" src=\"//upload.wikimedia.org/wikipedia/commons/thumb/0/09/Flag_of_South_Korea.svg/23px-Flag_of_South_Korea.svg.png\" srcset=\"//upload.wikimedia.org/wikipedia/commons/thumb/0/09/Flag_of_South_Korea.svg/35px-Flag_of_South_Korea.svg.png 1.5x, //upload.wikimedia.org/wikipedia/commons/thumb/0/09/Flag_of_South_Korea.svg/45px-Flag_of_South_Korea.svg.png 2x\" width=\"23\"/>\n",
      "      </span>\n",
      "     </span>\n",
      "    </span>\n",
      "    <a href=\"/wiki/South_Korea\" title=\"South Korea\">\n",
      "     South Korea\n",
      "    </a>\n",
      "   </td>\n",
      "   <td>\n",
      "    51,844,834\n",
      "   </td>\n",
      "   <td>\n",
      "    99,720\n",
      "   </td>\n",
      "   <td>\n",
      "    520\n",
      "   </td>\n",
      "  </tr>\n",
      "  <tr>\n",
      "   <td>\n",
      "    6\n",
      "   </td>\n",
      "   <td align=\"left\">\n",
      "    <span class=\"flagicon\">\n",
      "     <span class=\"mw-image-border\" typeof=\"mw:File\">\n",
      "      <span>\n",
      "       <img alt=\"\" class=\"mw-file-element\" data-file-height=\"600\" data-file-width=\"900\" decoding=\"async\" height=\"15\" src=\"//upload.wikimedia.org/wikipedia/commons/thumb/5/59/Flag_of_Lebanon.svg/23px-Flag_of_Lebanon.svg.png\" srcset=\"//upload.wikimedia.org/wikipedia/commons/thumb/5/59/Flag_of_Lebanon.svg/35px-Flag_of_Lebanon.svg.png 1.5x, //upload.wikimedia.org/wikipedia/commons/thumb/5/59/Flag_of_Lebanon.svg/45px-Flag_of_Lebanon.svg.png 2x\" width=\"23\"/>\n",
      "      </span>\n",
      "     </span>\n",
      "    </span>\n",
      "    <a href=\"/wiki/Lebanon\" title=\"Lebanon\">\n",
      "     Lebanon\n",
      "    </a>\n",
      "   </td>\n",
      "   <td>\n",
      "    5,296,814\n",
      "   </td>\n",
      "   <td>\n",
      "    10,400\n",
      "   </td>\n",
      "   <td>\n",
      "    509\n",
      "   </td>\n",
      "  </tr>\n",
      "  <tr>\n",
      "   <td>\n",
      "    7\n",
      "   </td>\n",
      "   <td align=\"left\">\n",
      "    <span class=\"flagicon\">\n",
      "     <span class=\"mw-image-border\" typeof=\"mw:File\">\n",
      "      <span>\n",
      "       <img alt=\"\" class=\"mw-file-element\" data-file-height=\"600\" data-file-width=\"900\" decoding=\"async\" height=\"15\" src=\"//upload.wikimedia.org/wikipedia/commons/thumb/1/17/Flag_of_Rwanda.svg/23px-Flag_of_Rwanda.svg.png\" srcset=\"//upload.wikimedia.org/wikipedia/commons/thumb/1/17/Flag_of_Rwanda.svg/35px-Flag_of_Rwanda.svg.png 1.5x, //upload.wikimedia.org/wikipedia/commons/thumb/1/17/Flag_of_Rwanda.svg/45px-Flag_of_Rwanda.svg.png 2x\" width=\"23\"/>\n",
      "      </span>\n",
      "     </span>\n",
      "    </span>\n",
      "    <a href=\"/wiki/Rwanda\" title=\"Rwanda\">\n",
      "     Rwanda\n",
      "    </a>\n",
      "   </td>\n",
      "   <td>\n",
      "    13,173,730\n",
      "   </td>\n",
      "   <td>\n",
      "    26,338\n",
      "   </td>\n",
      "   <td>\n",
      "    500\n",
      "   </td>\n",
      "  </tr>\n",
      "  <tr>\n",
      "   <td>\n",
      "    8\n",
      "   </td>\n",
      "   <td align=\"left\">\n",
      "    <span class=\"flagicon\">\n",
      "     <span class=\"mw-image-border\" typeof=\"mw:File\">\n",
      "      <span>\n",
      "       <img alt=\"\" class=\"mw-file-element\" data-file-height=\"600\" data-file-width=\"1000\" decoding=\"async\" height=\"14\" src=\"//upload.wikimedia.org/wikipedia/commons/thumb/5/50/Flag_of_Burundi.svg/23px-Flag_of_Burundi.svg.png\" srcset=\"//upload.wikimedia.org/wikipedia/commons/thumb/5/50/Flag_of_Burundi.svg/35px-Flag_of_Burundi.svg.png 1.5x, //upload.wikimedia.org/wikipedia/commons/thumb/5/50/Flag_of_Burundi.svg/46px-Flag_of_Burundi.svg.png 2x\" width=\"23\"/>\n",
      "      </span>\n",
      "     </span>\n",
      "    </span>\n",
      "    <a href=\"/wiki/Burundi\" title=\"Burundi\">\n",
      "     Burundi\n",
      "    </a>\n",
      "   </td>\n",
      "   <td>\n",
      "    12,696,478\n",
      "   </td>\n",
      "   <td>\n",
      "    27,830\n",
      "   </td>\n",
      "   <td>\n",
      "    456\n",
      "   </td>\n",
      "  </tr>\n",
      "  <tr>\n",
      "   <td>\n",
      "    9\n",
      "   </td>\n",
      "   <td align=\"left\">\n",
      "    <span class=\"flagicon\">\n",
      "     <span class=\"mw-image-border\" typeof=\"mw:File\">\n",
      "      <span>\n",
      "       <img alt=\"\" class=\"mw-file-element\" data-file-height=\"800\" data-file-width=\"1100\" decoding=\"async\" height=\"15\" src=\"//upload.wikimedia.org/wikipedia/commons/thumb/d/d4/Flag_of_Israel.svg/21px-Flag_of_Israel.svg.png\" srcset=\"//upload.wikimedia.org/wikipedia/commons/thumb/d/d4/Flag_of_Israel.svg/32px-Flag_of_Israel.svg.png 1.5x, //upload.wikimedia.org/wikipedia/commons/thumb/d/d4/Flag_of_Israel.svg/41px-Flag_of_Israel.svg.png 2x\" width=\"21\"/>\n",
      "      </span>\n",
      "     </span>\n",
      "    </span>\n",
      "    <a href=\"/wiki/Israel\" title=\"Israel\">\n",
      "     Israel\n",
      "    </a>\n",
      "   </td>\n",
      "   <td>\n",
      "    9,402,617\n",
      "   </td>\n",
      "   <td>\n",
      "    21,937\n",
      "   </td>\n",
      "   <td>\n",
      "    429\n",
      "   </td>\n",
      "  </tr>\n",
      "  <tr>\n",
      "   <td>\n",
      "    10\n",
      "   </td>\n",
      "   <td align=\"left\">\n",
      "    <span class=\"flagicon\">\n",
      "     <span class=\"mw-image-border\" typeof=\"mw:File\">\n",
      "      <span>\n",
      "       <img alt=\"\" class=\"mw-file-element\" data-file-height=\"600\" data-file-width=\"900\" decoding=\"async\" height=\"15\" src=\"//upload.wikimedia.org/wikipedia/en/thumb/4/41/Flag_of_India.svg/23px-Flag_of_India.svg.png\" srcset=\"//upload.wikimedia.org/wikipedia/en/thumb/4/41/Flag_of_India.svg/35px-Flag_of_India.svg.png 1.5x, //upload.wikimedia.org/wikipedia/en/thumb/4/41/Flag_of_India.svg/45px-Flag_of_India.svg.png 2x\" width=\"23\"/>\n",
      "      </span>\n",
      "     </span>\n",
      "    </span>\n",
      "    <a href=\"/wiki/India\" title=\"India\">\n",
      "     India\n",
      "    </a>\n",
      "   </td>\n",
      "   <td>\n",
      "    1,389,637,446\n",
      "   </td>\n",
      "   <td>\n",
      "    3,287,263\n",
      "   </td>\n",
      "   <td>\n",
      "    423\n",
      "   </td>\n",
      "  </tr>\n",
      " </tbody>\n",
      "</table>\n",
      "\n"
     ]
    }
   ],
   "source": [
    "print(tables[table_index].prettify())"
   ]
  },
  {
   "cell_type": "code",
   "execution_count": 25,
   "metadata": {},
   "outputs": [
    {
     "data": {
      "text/html": [
       "<div>\n",
       "<style scoped>\n",
       "    .dataframe tbody tr th:only-of-type {\n",
       "        vertical-align: middle;\n",
       "    }\n",
       "\n",
       "    .dataframe tbody tr th {\n",
       "        vertical-align: top;\n",
       "    }\n",
       "\n",
       "    .dataframe thead th {\n",
       "        text-align: right;\n",
       "    }\n",
       "</style>\n",
       "<table border=\"1\" class=\"dataframe\">\n",
       "  <thead>\n",
       "    <tr style=\"text-align: right;\">\n",
       "      <th></th>\n",
       "      <th>Rank</th>\n",
       "      <th>Country</th>\n",
       "      <th>Population</th>\n",
       "      <th>Area</th>\n",
       "      <th>Density</th>\n",
       "    </tr>\n",
       "  </thead>\n",
       "  <tbody>\n",
       "    <tr>\n",
       "      <th>0</th>\n",
       "      <td>1</td>\n",
       "      <td>Singapore</td>\n",
       "      <td>5,921,231</td>\n",
       "      <td>719</td>\n",
       "      <td>8,235</td>\n",
       "    </tr>\n",
       "    <tr>\n",
       "      <th>1</th>\n",
       "      <td>2</td>\n",
       "      <td>Bangladesh</td>\n",
       "      <td>165,650,475</td>\n",
       "      <td>148,460</td>\n",
       "      <td>1,116</td>\n",
       "    </tr>\n",
       "    <tr>\n",
       "      <th>2</th>\n",
       "      <td>3</td>\n",
       "      <td>Palestine[note 3][101]</td>\n",
       "      <td>5,223,000</td>\n",
       "      <td>6,025</td>\n",
       "      <td>867</td>\n",
       "    </tr>\n",
       "    <tr>\n",
       "      <th>3</th>\n",
       "      <td>4</td>\n",
       "      <td>Taiwan[note 4]</td>\n",
       "      <td>23,580,712</td>\n",
       "      <td>35,980</td>\n",
       "      <td>655</td>\n",
       "    </tr>\n",
       "    <tr>\n",
       "      <th>4</th>\n",
       "      <td>5</td>\n",
       "      <td>South Korea</td>\n",
       "      <td>51,844,834</td>\n",
       "      <td>99,720</td>\n",
       "      <td>520</td>\n",
       "    </tr>\n",
       "    <tr>\n",
       "      <th>5</th>\n",
       "      <td>6</td>\n",
       "      <td>Lebanon</td>\n",
       "      <td>5,296,814</td>\n",
       "      <td>10,400</td>\n",
       "      <td>509</td>\n",
       "    </tr>\n",
       "    <tr>\n",
       "      <th>6</th>\n",
       "      <td>7</td>\n",
       "      <td>Rwanda</td>\n",
       "      <td>13,173,730</td>\n",
       "      <td>26,338</td>\n",
       "      <td>500</td>\n",
       "    </tr>\n",
       "    <tr>\n",
       "      <th>7</th>\n",
       "      <td>8</td>\n",
       "      <td>Burundi</td>\n",
       "      <td>12,696,478</td>\n",
       "      <td>27,830</td>\n",
       "      <td>456</td>\n",
       "    </tr>\n",
       "    <tr>\n",
       "      <th>8</th>\n",
       "      <td>9</td>\n",
       "      <td>Israel</td>\n",
       "      <td>9,402,617</td>\n",
       "      <td>21,937</td>\n",
       "      <td>429</td>\n",
       "    </tr>\n",
       "    <tr>\n",
       "      <th>9</th>\n",
       "      <td>10</td>\n",
       "      <td>India</td>\n",
       "      <td>1,389,637,446</td>\n",
       "      <td>3,287,263</td>\n",
       "      <td>423</td>\n",
       "    </tr>\n",
       "  </tbody>\n",
       "</table>\n",
       "</div>"
      ],
      "text/plain": [
       "  Rank                 Country     Population       Area Density\n",
       "0    1               Singapore      5,921,231        719   8,235\n",
       "1    2              Bangladesh    165,650,475    148,460   1,116\n",
       "2    3  Palestine[note 3][101]      5,223,000      6,025     867\n",
       "3    4          Taiwan[note 4]     23,580,712     35,980     655\n",
       "4    5             South Korea     51,844,834     99,720     520\n",
       "5    6                 Lebanon      5,296,814     10,400     509\n",
       "6    7                  Rwanda     13,173,730     26,338     500\n",
       "7    8                 Burundi     12,696,478     27,830     456\n",
       "8    9                  Israel      9,402,617     21,937     429\n",
       "9   10                   India  1,389,637,446  3,287,263     423"
      ]
     },
     "execution_count": 25,
     "metadata": {},
     "output_type": "execute_result"
    }
   ],
   "source": [
    "rows = []\n",
    "\n",
    "for row in tables[table_index].tbody.find_all(\"tr\"):\n",
    "    col = row.find_all(\"td\")\n",
    "    if col != []:\n",
    "        rank = col[0].text.strip()\n",
    "        country = col[1].text.strip()\n",
    "        population = col[2].text.strip()\n",
    "        area = col[3].text.strip()\n",
    "        density = col[4].text.strip()\n",
    "        rows.append({\"Rank\": rank, \"Country\": country, \"Population\": population, \"Area\": area, \"Density\": density})\n",
    "\n",
    "# Convert the list of dictionaries to a DataFrame\n",
    "population_data = pd.DataFrame(rows, columns=[\"Rank\", \"Country\", \"Population\", \"Area\", \"Density\"])\n",
    "\n",
    "population_data\n"
   ]
  },
  {
   "cell_type": "markdown",
   "metadata": {},
   "source": [
    "## Scrape data from HTML tables into a DataFrame using BeautifulSoup and read_html\n"
   ]
  },
  {
   "cell_type": "markdown",
   "metadata": {},
   "source": [
    "Using the same `url`, `data`, `soup`, and `tables` object as in the last section we can use the `read_html` function to create a DataFrame.\n",
    "\n",
    "Remember the table we need is located in `tables[table_index]`\n",
    "\n",
    "We can now use the `pandas` function `read_html` and give it the string version of the table as well as the `flavor` which is the parsing engine `bs4`.\n"
   ]
  },
  {
   "cell_type": "code",
   "execution_count": 26,
   "metadata": {},
   "outputs": [
    {
     "name": "stderr",
     "output_type": "stream",
     "text": [
      "C:\\Users\\pc\\AppData\\Local\\Temp\\ipykernel_23336\\4059676793.py:1: FutureWarning: Passing literal html to 'read_html' is deprecated and will be removed in a future version. To read from a literal string, wrap it in a 'StringIO' object.\n",
      "  pd.read_html(str(tables[5]), flavor='bs4')\n"
     ]
    },
    {
     "data": {
      "text/plain": [
       "[  Country / Dependency  Population % of world         Date  \\\n",
       " 0                India  1425775850      17.5%  14 Apr 2023   \n",
       " 1                China  1409670000      17.3%  17 Jan 2024   \n",
       " 2        United States   336879601      4.14%   4 Sep 2024   \n",
       " 3            Indonesia   278696200      3.43%   1 Jul 2023   \n",
       " 4             Pakistan   229488994      2.82%   1 Jul 2022   \n",
       " 5              Nigeria   216746934      2.67%   1 Jul 2022   \n",
       " 6               Brazil   218123018      2.68%   4 Sep 2024   \n",
       " 7           Bangladesh   168220000      2.07%   1 Jul 2020   \n",
       " 8               Russia   147190000      1.81%   1 Oct 2021   \n",
       " 9               Mexico   128271248      1.58%  31 Mar 2022   \n",
       " \n",
       "   Source (official or from the United Nations)  \n",
       " 0                            UN projection[90]  \n",
       " 1                 National annual estimate[91]  \n",
       " 2                National population clock[92]  \n",
       " 3                 National annual estimate[93]  \n",
       " 4                            UN projection[94]  \n",
       " 5                            UN projection[94]  \n",
       " 6                National population clock[95]  \n",
       " 7               Annual Population Estimate[96]  \n",
       " 8          2021 preliminary census results[97]  \n",
       " 9                                          NaN  ]"
      ]
     },
     "execution_count": 26,
     "metadata": {},
     "output_type": "execute_result"
    }
   ],
   "source": [
    "pd.read_html(str(tables[5]), flavor='bs4')"
   ]
  },
  {
   "cell_type": "markdown",
   "metadata": {},
   "source": [
    "The function `read_html` always returns a list of DataFrames so we must pick the one we want out of the list.\n"
   ]
  },
  {
   "cell_type": "code",
   "execution_count": 27,
   "metadata": {},
   "outputs": [
    {
     "name": "stderr",
     "output_type": "stream",
     "text": [
      "C:\\Users\\pc\\AppData\\Local\\Temp\\ipykernel_23336\\3554864673.py:1: FutureWarning: Passing literal html to 'read_html' is deprecated and will be removed in a future version. To read from a literal string, wrap it in a 'StringIO' object.\n",
      "  population_data_read_html = pd.read_html(str(tables[5]), flavor='bs4')[0]\n"
     ]
    },
    {
     "data": {
      "text/html": [
       "<div>\n",
       "<style scoped>\n",
       "    .dataframe tbody tr th:only-of-type {\n",
       "        vertical-align: middle;\n",
       "    }\n",
       "\n",
       "    .dataframe tbody tr th {\n",
       "        vertical-align: top;\n",
       "    }\n",
       "\n",
       "    .dataframe thead th {\n",
       "        text-align: right;\n",
       "    }\n",
       "</style>\n",
       "<table border=\"1\" class=\"dataframe\">\n",
       "  <thead>\n",
       "    <tr style=\"text-align: right;\">\n",
       "      <th></th>\n",
       "      <th>Country / Dependency</th>\n",
       "      <th>Population</th>\n",
       "      <th>% of world</th>\n",
       "      <th>Date</th>\n",
       "      <th>Source (official or from the United Nations)</th>\n",
       "    </tr>\n",
       "  </thead>\n",
       "  <tbody>\n",
       "    <tr>\n",
       "      <th>0</th>\n",
       "      <td>India</td>\n",
       "      <td>1425775850</td>\n",
       "      <td>17.5%</td>\n",
       "      <td>14 Apr 2023</td>\n",
       "      <td>UN projection[90]</td>\n",
       "    </tr>\n",
       "    <tr>\n",
       "      <th>1</th>\n",
       "      <td>China</td>\n",
       "      <td>1409670000</td>\n",
       "      <td>17.3%</td>\n",
       "      <td>17 Jan 2024</td>\n",
       "      <td>National annual estimate[91]</td>\n",
       "    </tr>\n",
       "    <tr>\n",
       "      <th>2</th>\n",
       "      <td>United States</td>\n",
       "      <td>336879601</td>\n",
       "      <td>4.14%</td>\n",
       "      <td>4 Sep 2024</td>\n",
       "      <td>National population clock[92]</td>\n",
       "    </tr>\n",
       "    <tr>\n",
       "      <th>3</th>\n",
       "      <td>Indonesia</td>\n",
       "      <td>278696200</td>\n",
       "      <td>3.43%</td>\n",
       "      <td>1 Jul 2023</td>\n",
       "      <td>National annual estimate[93]</td>\n",
       "    </tr>\n",
       "    <tr>\n",
       "      <th>4</th>\n",
       "      <td>Pakistan</td>\n",
       "      <td>229488994</td>\n",
       "      <td>2.82%</td>\n",
       "      <td>1 Jul 2022</td>\n",
       "      <td>UN projection[94]</td>\n",
       "    </tr>\n",
       "    <tr>\n",
       "      <th>5</th>\n",
       "      <td>Nigeria</td>\n",
       "      <td>216746934</td>\n",
       "      <td>2.67%</td>\n",
       "      <td>1 Jul 2022</td>\n",
       "      <td>UN projection[94]</td>\n",
       "    </tr>\n",
       "    <tr>\n",
       "      <th>6</th>\n",
       "      <td>Brazil</td>\n",
       "      <td>218123018</td>\n",
       "      <td>2.68%</td>\n",
       "      <td>4 Sep 2024</td>\n",
       "      <td>National population clock[95]</td>\n",
       "    </tr>\n",
       "    <tr>\n",
       "      <th>7</th>\n",
       "      <td>Bangladesh</td>\n",
       "      <td>168220000</td>\n",
       "      <td>2.07%</td>\n",
       "      <td>1 Jul 2020</td>\n",
       "      <td>Annual Population Estimate[96]</td>\n",
       "    </tr>\n",
       "    <tr>\n",
       "      <th>8</th>\n",
       "      <td>Russia</td>\n",
       "      <td>147190000</td>\n",
       "      <td>1.81%</td>\n",
       "      <td>1 Oct 2021</td>\n",
       "      <td>2021 preliminary census results[97]</td>\n",
       "    </tr>\n",
       "    <tr>\n",
       "      <th>9</th>\n",
       "      <td>Mexico</td>\n",
       "      <td>128271248</td>\n",
       "      <td>1.58%</td>\n",
       "      <td>31 Mar 2022</td>\n",
       "      <td>NaN</td>\n",
       "    </tr>\n",
       "  </tbody>\n",
       "</table>\n",
       "</div>"
      ],
      "text/plain": [
       "  Country / Dependency  Population % of world         Date  \\\n",
       "0                India  1425775850      17.5%  14 Apr 2023   \n",
       "1                China  1409670000      17.3%  17 Jan 2024   \n",
       "2        United States   336879601      4.14%   4 Sep 2024   \n",
       "3            Indonesia   278696200      3.43%   1 Jul 2023   \n",
       "4             Pakistan   229488994      2.82%   1 Jul 2022   \n",
       "5              Nigeria   216746934      2.67%   1 Jul 2022   \n",
       "6               Brazil   218123018      2.68%   4 Sep 2024   \n",
       "7           Bangladesh   168220000      2.07%   1 Jul 2020   \n",
       "8               Russia   147190000      1.81%   1 Oct 2021   \n",
       "9               Mexico   128271248      1.58%  31 Mar 2022   \n",
       "\n",
       "  Source (official or from the United Nations)  \n",
       "0                            UN projection[90]  \n",
       "1                 National annual estimate[91]  \n",
       "2                National population clock[92]  \n",
       "3                 National annual estimate[93]  \n",
       "4                            UN projection[94]  \n",
       "5                            UN projection[94]  \n",
       "6                National population clock[95]  \n",
       "7               Annual Population Estimate[96]  \n",
       "8          2021 preliminary census results[97]  \n",
       "9                                          NaN  "
      ]
     },
     "execution_count": 27,
     "metadata": {},
     "output_type": "execute_result"
    }
   ],
   "source": [
    "population_data_read_html = pd.read_html(str(tables[5]), flavor='bs4')[0]\n",
    "\n",
    "population_data_read_html"
   ]
  },
  {
   "cell_type": "markdown",
   "metadata": {},
   "source": [
    "## Scrape data from HTML tables into a DataFrame using read_html\n"
   ]
  },
  {
   "cell_type": "markdown",
   "metadata": {},
   "source": [
    "We can also use the `read_html` function to directly get DataFrames from a `url`.\n"
   ]
  },
  {
   "cell_type": "code",
   "execution_count": 28,
   "metadata": {},
   "outputs": [
    {
     "data": {
      "text/plain": [
       "[    0                                                  1\n",
       " 0 NaN  This article lists the same citations more tha...,\n",
       "       Population         1     2     3     4     5     6     7     8     9  \\\n",
       " 0           Year      1804  1927  1960  1974  1987  1999  2011  2022  2037   \n",
       " 1  Years elapsed  200,000+   123    33    14    13    12    12    11    15   \n",
       " \n",
       "      10  \n",
       " 0  2057  \n",
       " 1    20  ,\n",
       "                                Region  2022 (percent)  2030 (percent)  \\\n",
       " 0                  Sub-Saharan Africa  1,152 (14.51%)  1,401 (16.46%)   \n",
       " 1    Northern Africa and Western Asia     549 (6.91%)     617 (7.25%)   \n",
       " 2      Central Asia and Southern Asia  2,075 (26.13%)  2,248 (26.41%)   \n",
       " 3  Eastern Asia and Southeastern Asia  2,342 (29.49%)  2,372 (27.87%)   \n",
       " 4         Europe and Northern America  1,120 (14.10%)  1,129 (13.26%)   \n",
       " 5     Latin America and the Caribbean     658 (8.29%)     695 (8.17%)   \n",
       " 6           Australia and New Zealand      31 (0.39%)      34 (0.40%)   \n",
       " 7                             Oceania      14 (0.18%)      15 (0.18%)   \n",
       " 8                               World            7942            8512   \n",
       " \n",
       "    2050 (percent)  \n",
       " 0  2,094 (21.62%)  \n",
       " 1     771 (7.96%)  \n",
       " 2  2,575 (26.58%)  \n",
       " 3  2,317 (23.92%)  \n",
       " 4  1,125 (11.61%)  \n",
       " 5     749 (7.73%)  \n",
       " 6      38 (0.39%)  \n",
       " 7      20 (0.21%)  \n",
       " 8            9687  ,\n",
       "     0                                                  1\n",
       " 0 NaN  Graphs are unavailable due to technical issues...,\n",
       "                      Region Density (inhabitants/km2) Population (millions)  \\\n",
       " 0                      Asia                     104.1                  4641   \n",
       " 1                    Africa                      44.4                  1340   \n",
       " 2                    Europe                      73.4                   747   \n",
       " 3             Latin America                      24.1                   653   \n",
       " 4  Northern America[note 1]                      14.9                   368   \n",
       " 5                   Oceania                         5                    42   \n",
       " 6                Antarctica                        ~0             0.004[87]   \n",
       " \n",
       "                                Most populous country  \\\n",
       " 0                              1,439,090,595 – India   \n",
       " 1                            0,211,401,000 – Nigeria   \n",
       " 2  0,146,171,000 – Russia, approx. 110 million in...   \n",
       " 3                             0,214,103,000 – Brazil   \n",
       " 4                      0,332,909,000 – United States   \n",
       " 5                          0,025,917,000 – Australia   \n",
       " 6                                        N/A[note 2]   \n",
       " \n",
       "               Most populous city (metropolitan area)  \n",
       " 0  13,515,000 – Tokyo Metropolis (37,400,000 – Gr...  \n",
       " 1    09,500,000 – Cairo (20,076,000 – Greater Cairo)  \n",
       " 2  13,200,000 – Moscow (20,004,000 – Moscow metro...  \n",
       " 3  12,252,000 – São Paulo City (21,650,000 – São ...  \n",
       " 4  08,804,000 – New York City (23,582,649 – New Y...  \n",
       " 5                                05,367,000 – Sydney  \n",
       " 6                       00,001,258 – McMurdo Station  ,\n",
       "   Country / Dependency  Population % of world         Date  \\\n",
       " 0                India  1425775850      17.5%  14 Apr 2023   \n",
       " 1                China  1409670000      17.3%  17 Jan 2024   \n",
       " 2        United States   336879601      4.14%   4 Sep 2024   \n",
       " 3            Indonesia   278696200      3.43%   1 Jul 2023   \n",
       " 4             Pakistan   229488994      2.82%   1 Jul 2022   \n",
       " 5              Nigeria   216746934      2.67%   1 Jul 2022   \n",
       " 6               Brazil   218123018      2.68%   4 Sep 2024   \n",
       " 7           Bangladesh   168220000      2.07%   1 Jul 2020   \n",
       " 8               Russia   147190000      1.81%   1 Oct 2021   \n",
       " 9               Mexico   128271248      1.58%  31 Mar 2022   \n",
       " \n",
       "   Source (official or from the United Nations)  \n",
       " 0                            UN projection[90]  \n",
       " 1                 National annual estimate[91]  \n",
       " 2                National population clock[92]  \n",
       " 3                 National annual estimate[93]  \n",
       " 4                            UN projection[94]  \n",
       " 5                            UN projection[94]  \n",
       " 6                National population clock[95]  \n",
       " 7               Annual Population Estimate[96]  \n",
       " 8          2021 preliminary census results[97]  \n",
       " 9                                          NaN  ,\n",
       "                                                                                                          #  \\\n",
       "    Graphs are unavailable due to technical issues. There is more info on Phabricator and on MediaWiki.org.   \n",
       "    Graphs are unavailable due to technical issues. There is more info on Phabricator and on MediaWiki.org.   \n",
       "    Graphs are unavailable due to technical issues. There is more info on Phabricator and on MediaWiki.org.   \n",
       "    Graphs are unavailable due to technical issues. There is more info on Phabricator and on MediaWiki.org.   \n",
       "    Graphs are unavailable due to technical issues. There is more info on Phabricator and on MediaWiki.org.   \n",
       "    Graphs are unavailable due to technical issues. There is more info on Phabricator and on MediaWiki.org.   \n",
       "    Graphs are unavailable due to technical issues. There is more info on Phabricator and on MediaWiki.org.   \n",
       "    Graphs are unavailable due to technical issues. There is more info on Phabricator and on MediaWiki.org.   \n",
       "    Graphs are unavailable due to technical issues. There is more info on Phabricator and on MediaWiki.org.   \n",
       "    Graphs are unavailable due to technical issues. There is more info on Phabricator and on MediaWiki.org.   \n",
       "    Graphs are unavailable due to technical issues. There is more info on Phabricator and on MediaWiki.org.   \n",
       " 0                                                 NaN                                                        \n",
       " 1                                                   1                                                        \n",
       " 2                                                   2                                                        \n",
       " 3                                                   3                                                        \n",
       " 4                                                   4                                                        \n",
       " 5                                                   5                                                        \n",
       " 6                                                   6                                                        \n",
       " 7                                                   7                                                        \n",
       " 8                                                   8                                                        \n",
       " 9                                                   9                                                        \n",
       " 10                                                 10                                                        \n",
       " 11                                                NaN                                                        \n",
       " 12  Notes: ^ 2030 = Medium variant. ^ China exclud...                                                        \n",
       " \n",
       "                               Most populous countries  \\\n",
       "                                    Unnamed: 1_level_1   \n",
       "                                    Unnamed: 1_level_2   \n",
       "                                    Unnamed: 1_level_3   \n",
       "                                    Unnamed: 1_level_4   \n",
       "                                    Unnamed: 1_level_5   \n",
       "                                    Unnamed: 1_level_6   \n",
       "                                    Unnamed: 1_level_7   \n",
       "                                    Unnamed: 1_level_8   \n",
       "                                    Unnamed: 1_level_9   \n",
       "                                   Unnamed: 1_level_10   \n",
       "                                   Unnamed: 1_level_11   \n",
       " 0   Graphs are unavailable due to technical issues...   \n",
       " 1                                            China[B]   \n",
       " 2                                               India   \n",
       " 3                                       United States   \n",
       " 4                                           Indonesia   \n",
       " 5                                            Pakistan   \n",
       " 6                                              Brazil   \n",
       " 7                                             Nigeria   \n",
       " 8                                          Bangladesh   \n",
       " 9                                              Russia   \n",
       " 10                                             Mexico   \n",
       " 11                                        World total   \n",
       " 12  Notes: ^ 2030 = Medium variant. ^ China exclud...   \n",
       " \n",
       "                                                  2000  \\\n",
       "                                    Unnamed: 2_level_1   \n",
       "                                    Unnamed: 2_level_2   \n",
       "                                    Unnamed: 2_level_3   \n",
       "                                    Unnamed: 2_level_4   \n",
       "                                    Unnamed: 2_level_5   \n",
       "                                    Unnamed: 2_level_6   \n",
       "                                    Unnamed: 2_level_7   \n",
       "                                    Unnamed: 2_level_8   \n",
       "                                    Unnamed: 2_level_9   \n",
       "                                   Unnamed: 2_level_10   \n",
       "                                   Unnamed: 2_level_11   \n",
       " 0                                                 NaN   \n",
       " 1                                                1270   \n",
       " 2                                                1053   \n",
       " 3                                                 283   \n",
       " 4                                                 212   \n",
       " 5                                                 136   \n",
       " 6                                                 176   \n",
       " 7                                                 123   \n",
       " 8                                                 131   \n",
       " 9                                                 146   \n",
       " 10                                                103   \n",
       " 11                                               6127   \n",
       " 12  Notes: ^ 2030 = Medium variant. ^ China exclud...   \n",
       " \n",
       "                                                  2015  \\\n",
       "                                    Unnamed: 3_level_1   \n",
       "                                    Unnamed: 3_level_2   \n",
       "                                    Unnamed: 3_level_3   \n",
       "                                    Unnamed: 3_level_4   \n",
       "                                    Unnamed: 3_level_5   \n",
       "                                    Unnamed: 3_level_6   \n",
       "                                    Unnamed: 3_level_7   \n",
       "                                    Unnamed: 3_level_8   \n",
       "                                    Unnamed: 3_level_9   \n",
       "                                   Unnamed: 3_level_10   \n",
       "                                   Unnamed: 3_level_11   \n",
       " 0                                                 NaN   \n",
       " 1                                                1376   \n",
       " 2                                                1311   \n",
       " 3                                                 322   \n",
       " 4                                                 258   \n",
       " 5                                                 208   \n",
       " 6                                                 206   \n",
       " 7                                                 182   \n",
       " 8                                                 161   \n",
       " 9                                                 146   \n",
       " 10                                                127   \n",
       " 11                                               7349   \n",
       " 12  Notes: ^ 2030 = Medium variant. ^ China exclud...   \n",
       " \n",
       "                                               2030[A]  \\\n",
       "                                    Unnamed: 4_level_1   \n",
       "                                    Unnamed: 4_level_2   \n",
       "                                    Unnamed: 4_level_3   \n",
       "                                    Unnamed: 4_level_4   \n",
       "                                    Unnamed: 4_level_5   \n",
       "                                    Unnamed: 4_level_6   \n",
       "                                    Unnamed: 4_level_7   \n",
       "                                    Unnamed: 4_level_8   \n",
       "                                    Unnamed: 4_level_9   \n",
       "                                   Unnamed: 4_level_10   \n",
       "                                   Unnamed: 4_level_11   \n",
       " 0                                                 NaN   \n",
       " 1                                                1416   \n",
       " 2                                                1528   \n",
       " 3                                                 356   \n",
       " 4                                                 295   \n",
       " 5                                                 245   \n",
       " 6                                                 228   \n",
       " 7                                                 263   \n",
       " 8                                                 186   \n",
       " 9                                                 149   \n",
       " 10                                                148   \n",
       " 11                                               8501   \n",
       " 12  Notes: ^ 2030 = Medium variant. ^ China exclud...   \n",
       " \n",
       "    Graphs are unavailable due to technical issues. There is more info on Phabricator and on MediaWiki.org.  \n",
       "                                                                                         Unnamed: 5_level_1  \n",
       "                                                                                         Unnamed: 5_level_2  \n",
       "                                                                                         Unnamed: 5_level_3  \n",
       "                                                                                         Unnamed: 5_level_4  \n",
       "                                                                                         Unnamed: 5_level_5  \n",
       "                                                                                         Unnamed: 5_level_6  \n",
       "                                                                                         Unnamed: 5_level_7  \n",
       "                                                                                         Unnamed: 5_level_8  \n",
       "                                                                                         Unnamed: 5_level_9  \n",
       "                                                                                        Unnamed: 5_level_10  \n",
       "                                                                                        Unnamed: 5_level_11  \n",
       " 0                                                 NaN                                                       \n",
       " 1                                                 NaN                                                       \n",
       " 2                                                 NaN                                                       \n",
       " 3                                                 NaN                                                       \n",
       " 4                                                 NaN                                                       \n",
       " 5                                                 NaN                                                       \n",
       " 6                                                 NaN                                                       \n",
       " 7                                                 NaN                                                       \n",
       " 8                                                 NaN                                                       \n",
       " 9                                                 NaN                                                       \n",
       " 10                                                NaN                                                       \n",
       " 11                                                NaN                                                       \n",
       " 12  Notes: ^ 2030 = Medium variant. ^ China exclud...                                                       ,\n",
       "    Rank                 Country  Population  Area (km2)  Density (pop/km2)\n",
       " 0     1               Singapore     5921231         719               8235\n",
       " 1     2              Bangladesh   165650475      148460               1116\n",
       " 2     3  Palestine[note 3][101]     5223000        6025                867\n",
       " 3     4          Taiwan[note 4]    23580712       35980                655\n",
       " 4     5             South Korea    51844834       99720                520\n",
       " 5     6                 Lebanon     5296814       10400                509\n",
       " 6     7                  Rwanda    13173730       26338                500\n",
       " 7     8                 Burundi    12696478       27830                456\n",
       " 8     9                  Israel     9402617       21937                429\n",
       " 9    10                   India  1389637446     3287263                423,\n",
       "    Rank         Country  Population  Area (km2)  Density (pop/km2)  \\\n",
       " 0     1           India  1389637446     3287263                423   \n",
       " 1     2        Pakistan   242923845      796095                305   \n",
       " 2     3      Bangladesh   165650475      148460               1116   \n",
       " 3     4           Japan   124214766      377915                329   \n",
       " 4     5     Philippines   114597229      300000                382   \n",
       " 5     6         Vietnam   103808319      331210                313   \n",
       " 6     7  United Kingdom    67791400      243610                278   \n",
       " 7     8     South Korea    51844834       99720                520   \n",
       " 8     9          Taiwan    23580712       35980                655   \n",
       " 9    10       Sri Lanka    23187516       65610                353   \n",
       " \n",
       "   Population trend[citation needed]  \n",
       " 0                           Growing  \n",
       " 1                   Rapidly growing  \n",
       " 2                           Growing  \n",
       " 3                    Declining[102]  \n",
       " 4                           Growing  \n",
       " 5                           Growing  \n",
       " 6                           Growing  \n",
       " 7                            Steady  \n",
       " 8                            Steady  \n",
       " 9                           Growing  ,\n",
       "     Year  Population Yearly growth           Density (pop/km2)\n",
       "     Year  Population             %    Number Density (pop/km2)\n",
       " 0   1951  2543130380         1.75%  43808223                17\n",
       " 1   1952  2590270899         1.85%  47140519                17\n",
       " 2   1953  2640278797         1.93%  50007898                18\n",
       " 3   1954  2691979339         1.96%  51700542                18\n",
       " 4   1955  2746072141         2.01%  54092802                18\n",
       " ..   ...         ...           ...       ...               ...\n",
       " 68  2019  7764951032         1.06%  81161204                52\n",
       " 69  2020  7840952880         0.98%  76001848                53\n",
       " 70  2021  7909295151         0.87%  68342271                53\n",
       " 71  2022  7975105156         0.83%  65810005                54\n",
       " 72  2023  8045311447         0.88%  70206291                54\n",
       " \n",
       " [73 rows x 5 columns],\n",
       "                      Region  1500  1600  1700  1750  1800  1850  1900  1950  \\\n",
       " 0                     World   585   660   710   791   978  1262  1650  2521   \n",
       " 1                    Africa    86   114   106   106   107   111   133   221   \n",
       " 2                      Asia   282   350   411   502   635   809   947  1402   \n",
       " 3                    Europe   168   170   178   190   203   276   408   547   \n",
       " 4     Latin America[Note 1]    40    20    10    16    24    38    74   167   \n",
       " 5  Northern America[Note 1]     6     3     2     2     7    26    82   172   \n",
       " 6                   Oceania     3     3     3     2     2     2     6    13   \n",
       " \n",
       "    1999  2008  2010  2012  2050  2150  \n",
       " 0  6008  6707  6896  7052  9725  9746  \n",
       " 1   783   973  1022  1052  2478  2308  \n",
       " 2  3700  4054  4164  4250  5267  5561  \n",
       " 3   675   732   738   740   734   517  \n",
       " 4   508   577   590   603   784   912  \n",
       " 5   312   337   345   351   433   398  \n",
       " 6    30    34    37    38    57    51  ,\n",
       "                      Region  1500  1600  1700  1750  1800  1850  1900  1950  \\\n",
       " 0                    Africa  14.7  17.3  14.9  13.4  10.9   8.8   8.1   8.8   \n",
       " 1                      Asia  48.2  53.0  57.9  63.5  64.9  64.1  57.4  55.6   \n",
       " 2                    Europe  28.7  25.8  25.1  20.6  20.8  21.9  24.7  21.7   \n",
       " 3     Latin America[Note 1]   6.8   3.0   1.4   2.0   2.5   3.0   4.5   6.6   \n",
       " 4  Northern America[Note 1]   1.0   0.5   0.3   0.3   0.7   2.1   5.0   6.8   \n",
       " 5                   Oceania   0.5   0.5   0.4   0.3   0.2   0.2   0.4   0.5   \n",
       " \n",
       "    1999  2008  2010  2012  2050  2150  \n",
       " 0  13.0  14.5  14.8  15.2  25.5  23.7  \n",
       " 1  61.6  60.4  60.4  60.3  54.2  57.1  \n",
       " 2  11.2  10.9  10.7  10.5   7.6   5.3  \n",
       " 3   8.5   8.6   8.6   8.6   8.1   9.4  \n",
       " 4   5.2   5.0   5.0   5.0   4.5   4.1  \n",
       " 5   0.5   0.5   0.5   0.5   0.6   0.5  ,\n",
       "          Year    World  Africa    Asia  Europe  \\\n",
       " 0   70,000 BC  < 0.015     NaN     NaN     NaN   \n",
       " 1   10,000 BC        4     NaN     NaN     NaN   \n",
       " 2     8000 BC        5     NaN     NaN     NaN   \n",
       " 3     6500 BC        5     NaN     NaN     NaN   \n",
       " 4     5000 BC        5     NaN     NaN     NaN   \n",
       " 5     4000 BC        7     NaN     NaN     NaN   \n",
       " 6     3000 BC       14     NaN     NaN     NaN   \n",
       " 7     2000 BC       27     NaN     NaN     NaN   \n",
       " 8     1000 BC       50     7.0    33.0     9.0   \n",
       " 9      500 BC      100    14.0    66.0    16.0   \n",
       " 10       AD 1      200    23.0   141.0    28.0   \n",
       " 11       1000      400    70.0   269.0    50.0   \n",
       " 12       1500      458    86.0   243.0    84.0   \n",
       " 13       1600      580   114.0   339.0   111.0   \n",
       " 14       1700      682   106.0   436.0   125.0   \n",
       " 15       1750      791   106.0   502.0   163.0   \n",
       " 16       1800     1000   107.0   656.0   203.0   \n",
       " 17       1850     1262   111.0   809.0   276.0   \n",
       " 18       1900     1650   133.0   947.0   408.0   \n",
       " 19       1950     2525   229.0  1394.0   549.0   \n",
       " 20       1955     2758   254.0  1534.0   577.0   \n",
       " 21       1960     3018   285.0  1687.0   606.0   \n",
       " 22       1965     3322   322.0  1875.0   635.0   \n",
       " 23       1970     3682   366.0  2120.0   657.0   \n",
       " 24       1975     4061   416.0  2378.0   677.0   \n",
       " 25       1980     4440   478.0  2626.0   694.0   \n",
       " 26       1985     4853   550.0  2897.0   708.0   \n",
       " 27       1990     5310   632.0  3202.0   721.0   \n",
       " 28       1995     5735   720.0  3475.0   728.0   \n",
       " 29       2000     6127   814.0  3714.0   726.0   \n",
       " 30       2005     6520   920.0  3945.0   729.0   \n",
       " 31       2010     6930  1044.0  4170.0   735.0   \n",
       " 32       2015     7349  1186.0  4393.0   738.0   \n",
       " \n",
       "     Latin America & Carib.[Note 1]  North America [Note 1]  Oceania  \\\n",
       " 0                              NaN                     NaN      NaN   \n",
       " 1                              NaN                     NaN      NaN   \n",
       " 2                              NaN                     NaN      NaN   \n",
       " 3                              NaN                     NaN      NaN   \n",
       " 4                              NaN                     NaN      NaN   \n",
       " 5                              NaN                     NaN      NaN   \n",
       " 6                              NaN                     NaN      NaN   \n",
       " 7                              NaN                     NaN      NaN   \n",
       " 8                              NaN                     NaN      NaN   \n",
       " 9                              NaN                     NaN      NaN   \n",
       " 10                             NaN                     NaN      NaN   \n",
       " 11                             8.0                     1.0      2.0   \n",
       " 12                            39.0                     3.0      3.0   \n",
       " 13                            10.0                     3.0      3.0   \n",
       " 14                            10.0                     2.0      3.0   \n",
       " 15                            16.0                     2.0      2.0   \n",
       " 16                            24.0                     7.0      3.0   \n",
       " 17                            38.0                    26.0      2.0   \n",
       " 18                            74.0                    82.0      6.0   \n",
       " 19                           169.0                   172.0     12.7   \n",
       " 20                           193.0                   187.0     14.2   \n",
       " 21                           221.0                   204.0     15.8   \n",
       " 22                           254.0                   219.0     17.5   \n",
       " 23                           288.0                   231.0     19.7   \n",
       " 24                           326.0                   242.0     21.5   \n",
       " 25                           365.0                   254.0     23.0   \n",
       " 26                           406.0                   267.0     24.9   \n",
       " 27                           447.0                   281.0     27.0   \n",
       " 28                           487.0                   296.0     29.1   \n",
       " 29                           527.0                   314.0     31.1   \n",
       " 30                           564.0                   329.0     33.4   \n",
       " 31                           600.0                   344.0     36.4   \n",
       " 32                           634.0                   358.0     39.3   \n",
       " \n",
       "                 Notes  \n",
       " 0               [119]  \n",
       " 1               [120]  \n",
       " 2                 NaN  \n",
       " 3                 NaN  \n",
       " 4                 NaN  \n",
       " 5                 NaN  \n",
       " 6                 NaN  \n",
       " 7                 NaN  \n",
       " 8   [citation needed]  \n",
       " 9                 NaN  \n",
       " 10                NaN  \n",
       " 11                NaN  \n",
       " 12                NaN  \n",
       " 13                NaN  \n",
       " 14                NaN  \n",
       " 15                NaN  \n",
       " 16                NaN  \n",
       " 17                NaN  \n",
       " 18                NaN  \n",
       " 19              [121]  \n",
       " 20                NaN  \n",
       " 21                NaN  \n",
       " 22                NaN  \n",
       " 23                NaN  \n",
       " 24                NaN  \n",
       " 25                NaN  \n",
       " 26                NaN  \n",
       " 27                NaN  \n",
       " 28                NaN  \n",
       " 29                NaN  \n",
       " 30                NaN  \n",
       " 31                NaN  \n",
       " 32                NaN  ,\n",
       "     0                                                  1\n",
       " 0 NaN  This section needs additional citations for ve...,\n",
       "    Year  UN est. (millions) Difference  USCB est. (millions) Difference.1\n",
       " 0  2005                6542          –                  6473            –\n",
       " 1  2010                6957        415                  6866          393\n",
       " 2  2015                7380        423                  7256          390\n",
       " 3  2020                7795        415                  7643          380\n",
       " 4  2025                8184        390                  8007          363\n",
       " 5  2030                8549        364                  8341          334\n",
       " 6  2035                8888        339                  8646          306\n",
       " 7  2040                9199        311                  8926          280\n",
       " 8  2045                9482        283                  9180          254\n",
       " 9  2050                9735        253                  9408          228,\n",
       "    Year  World           Asia         Africa       Europe  \\\n",
       " 0  2000   6144  3,741 (60.9%)    811 (13.2%)  726 (11.8%)   \n",
       " 1  2024   8160  4,810 (58.9%)  1,520 (18.6%)   745 (9.1%)   \n",
       " 2  2050   9660  5,280 (54.7%)  2,470 (25.6%)   703 (7.3%)   \n",
       " 3  2075  10250  5,100 (49.8%)  3,290 (32.1%)   636 (6.2%)   \n",
       " 4  2100  10180  4,610 (45.3%)  3,810 (37.4%)   592 (5.8%)   \n",
       " \n",
       "   Latin America/Caribbean Northern America    Oceania  \n",
       " 0              522 (8.5%)       312 (5.1%)  31 (0.5%)  \n",
       " 1              663 (8.1%)       385 (4.7%)  46 (0.6%)  \n",
       " 2              730 (7.6%)       426 (4.4%)  57 (0.6%)  \n",
       " 3              698 (6.8%)       452 (4.4%)  66 (0.6%)  \n",
       " 4              613 (6.0%)       475 (4.7%)  73 (0.7%)  ,\n",
       "   Population (in billions)   0.5  0.5.1     1   1.1     2   2.1     4   4.1  \\\n",
       " 0                     Year  1500   1500  1804  1804  1927  1927  1974  1974   \n",
       " 1            Years elapsed     —    304   304   123   123    47    47    48   \n",
       " \n",
       "       8   8.1   16  16.1  \n",
       " 0  2022  2022  NaN   NaN  \n",
       " 1    48    48    —   NaN  ,\n",
       "   Population (in billions) 0.375  0.375.1  0.75  0.75.1   1.5  1.5.1     3  \\\n",
       " 0                     Year  1171     1171  1715    1715  1881   1881  1960   \n",
       " 1            Years elapsed     —      544   544     166   166     79    79   \n",
       " \n",
       "     3.1     6   6.1            12          12.1  \n",
       " 0  1960  1999  1999  c. 2100[146]  c. 2100[146]  \n",
       " 1    39    39    39       c. 100+       c. 100+  ,\n",
       "                                      External videos  \\\n",
       " 0  Why Most Humans Live Inside This Small Circle ...   \n",
       " \n",
       "                                    External videos.1  \n",
       " 0  Why Most Humans Live Inside This Small Circle ...  ,\n",
       "               vtePopulation                                    vtePopulation.1\n",
       " 0              Major topics  Demographics of the world Demographic transiti...\n",
       " 1        Population biology  Population decline Population density Physiolo...\n",
       " 2        Population ecology  Biocapacity Carrying capacity I = P × A × T Ka...\n",
       " 3   Society and  population  Eugenics Dysgenics Human overpopulation Malthu...\n",
       " 4              Publications  Population and Environment Population and Deve...\n",
       " 5                     Lists  Population and housing censuses by country Lar...\n",
       " 6  Events and organizations  7 Billion Actions Church of Euthanasia Interna...\n",
       " 7            Related topics  Bennett's law Green Revolution Human impact on...\n",
       " 8         Commons  Category                                  Commons  Category,\n",
       "            Articles related to the world's population  \\\n",
       " 0   vteHuman impact on the environmentGeneral Anth...   \n",
       " 1                  vteHuman impact on the environment   \n",
       " 2                                             General   \n",
       " 3                                              Causes   \n",
       " 4                                             Effects   \n",
       " 5                                          Mitigation   \n",
       " 6   Commons  Category by country assessment mitiga...   \n",
       " 7      vteLists of countries by population statistics   \n",
       " 8                                              Global   \n",
       " 9                               Continents/subregions   \n",
       " 10                                   Intercontinental   \n",
       " 11                                 Cities/urban areas   \n",
       " 12                                    Past and future   \n",
       " 13                                 Population density   \n",
       " 14                                  Growth indicators   \n",
       " 15                                    Life expectancy   \n",
       " 16                                 Other demographics   \n",
       " 17                                             Health   \n",
       " 18                           Education and innovation   \n",
       " 19                                           Economic   \n",
       " 20    List of international rankings Lists by country   \n",
       " 21                               vteHierarchy of life   \n",
       " 22  Biosphere > Biome > Ecosystem > Biocoenosis > ...   \n",
       " 23                                   vteGlobalization   \n",
       " 24                          Journals  Outline Studies   \n",
       " 25                                            Aspects   \n",
       " 26                                             Issues   \n",
       " 27                                             Global   \n",
       " 28                                              Other   \n",
       " 29                                           Theories   \n",
       " 30                                   Notable scholars   \n",
       " 31                                          Economics   \n",
       " 32                                  Political economy   \n",
       " 33                               Politics / sociology   \n",
       " 34                                       Non–academic   \n",
       " 35                          Category  Business portal   \n",
       " \n",
       "          Articles related to the world's population.1  \n",
       " 0   vteHuman impact on the environmentGeneral Anth...  \n",
       " 1                  vteHuman impact on the environment  \n",
       " 2   Anthropocene Ecological footprint Environmenta...  \n",
       " 3   Agriculture animal agriculture cannabis cultiv...  \n",
       " 4   Biodiversity threats biodiversity loss decline...  \n",
       " 5   Alternative fuel vehicle propulsion Birth cont...  \n",
       " 6   Commons  Category by country assessment mitiga...  \n",
       " 7      vteLists of countries by population statistics  \n",
       " 8   Current population United Nations Demographics...  \n",
       " 9   Africa Antarctica Asia Europe North America Ca...  \n",
       " 10  Americas Arab world Commonwealth of Nations Eu...  \n",
       " 11  World cities National capitals Megacities Mega...  \n",
       " 12  Past and future population World population es...  \n",
       " 13  Current density Past and future population den...  \n",
       " 14  Population growth rate Natural increase Net re...  \n",
       " 15  World Africa Asia Europe North America Oceania...  \n",
       " 16  Age at childbearing Age at first marriage Age ...  \n",
       " 17  Antidepressant consumption Antiviral medicatio...  \n",
       " 18  Bloomberg Innovation Index Education Index Glo...  \n",
       " 19  Access to financial services Development aid d...  \n",
       " 20    List of international rankings Lists by country  \n",
       " 21                               vteHierarchy of life  \n",
       " 22  Biosphere > Biome > Ecosystem > Biocoenosis > ...  \n",
       " 23                                   vteGlobalization  \n",
       " 24                          Journals  Outline Studies  \n",
       " 25  Alter-globalization Anti-globalization movemen...  \n",
       " 26  Global Climate change Climate justice Disease ...  \n",
       " 27  Climate change Climate justice Disease COVID-1...  \n",
       " 28  Brain drain reverse Care drain Development aid...  \n",
       " 29  Capital accumulation Dependency Development Ea...  \n",
       " 30  Economics David Autor Richard Baldwin Ravi Bat...  \n",
       " 31  David Autor Richard Baldwin Ravi Batra Jagdish...  \n",
       " 32  Samir Amin Giovanni Arrighi Robert W. Cox Andr...  \n",
       " 33  Arjun Appadurai Daniele Archibugi K. Anthony A...  \n",
       " 34  Noam Chomsky Thomas Friedman Naomi Klein John ...  \n",
       " 35                          Category  Business portal  ,\n",
       "                   vteHuman impact on the environment  \\\n",
       " 0                                            General   \n",
       " 1                                             Causes   \n",
       " 2                                            Effects   \n",
       " 3                                         Mitigation   \n",
       " 4  Commons  Category by country assessment mitiga...   \n",
       " \n",
       "                 vteHuman impact on the environment.1  \n",
       " 0  Anthropocene Ecological footprint Environmenta...  \n",
       " 1  Agriculture animal agriculture cannabis cultiv...  \n",
       " 2  Biodiversity threats biodiversity loss decline...  \n",
       " 3  Alternative fuel vehicle propulsion Birth cont...  \n",
       " 4  Commons  Category by country assessment mitiga...  ,\n",
       "      vteLists of countries by population statistics  \\\n",
       " 0                                            Global   \n",
       " 1                             Continents/subregions   \n",
       " 2                                  Intercontinental   \n",
       " 3                                Cities/urban areas   \n",
       " 4                                   Past and future   \n",
       " 5                                Population density   \n",
       " 6                                 Growth indicators   \n",
       " 7                                   Life expectancy   \n",
       " 8                                Other demographics   \n",
       " 9                                            Health   \n",
       " 10                         Education and innovation   \n",
       " 11                                         Economic   \n",
       " 12  List of international rankings Lists by country   \n",
       " \n",
       "      vteLists of countries by population statistics.1  \n",
       " 0   Current population United Nations Demographics...  \n",
       " 1   Africa Antarctica Asia Europe North America Ca...  \n",
       " 2   Americas Arab world Commonwealth of Nations Eu...  \n",
       " 3   World cities National capitals Megacities Mega...  \n",
       " 4   Past and future population World population es...  \n",
       " 5   Current density Past and future population den...  \n",
       " 6   Population growth rate Natural increase Net re...  \n",
       " 7   World Africa Asia Europe North America Oceania...  \n",
       " 8   Age at childbearing Age at first marriage Age ...  \n",
       " 9   Antidepressant consumption Antiviral medicatio...  \n",
       " 10  Bloomberg Innovation Index Education Index Glo...  \n",
       " 11  Access to financial services Development aid d...  \n",
       " 12    List of international rankings Lists by country  ,\n",
       "                                 vteHierarchy of life  \\\n",
       " 0  Biosphere > Biome > Ecosystem > Biocoenosis > ...   \n",
       " \n",
       "                               vteHierarchy of life.1  \n",
       " 0  Biosphere > Biome > Ecosystem > Biocoenosis > ...  ,\n",
       "              vteGlobalization  \\\n",
       " 0   Journals  Outline Studies   \n",
       " 1                     Aspects   \n",
       " 2                      Issues   \n",
       " 3                      Global   \n",
       " 4                       Other   \n",
       " 5                    Theories   \n",
       " 6            Notable scholars   \n",
       " 7                   Economics   \n",
       " 8           Political economy   \n",
       " 9        Politics / sociology   \n",
       " 10               Non–academic   \n",
       " 11  Category  Business portal   \n",
       " \n",
       "                                    vteGlobalization.1  \n",
       " 0                           Journals  Outline Studies  \n",
       " 1   Alter-globalization Anti-globalization movemen...  \n",
       " 2   Global Climate change Climate justice Disease ...  \n",
       " 3   Climate change Climate justice Disease COVID-1...  \n",
       " 4   Brain drain reverse Care drain Development aid...  \n",
       " 5   Capital accumulation Dependency Development Ea...  \n",
       " 6   Economics David Autor Richard Baldwin Ravi Bat...  \n",
       " 7   David Autor Richard Baldwin Ravi Batra Jagdish...  \n",
       " 8   Samir Amin Giovanni Arrighi Robert W. Cox Andr...  \n",
       " 9   Arjun Appadurai Daniele Archibugi K. Anthony A...  \n",
       " 10  Noam Chomsky Thomas Friedman Naomi Klein John ...  \n",
       " 11                          Category  Business portal  ,\n",
       "         0                                                  1\n",
       " 0  Global  Climate change Climate justice Disease COVID-1...\n",
       " 1   Other  Brain drain reverse Care drain Development aid...,\n",
       "                       0                                                  1\n",
       " 0             Economics  David Autor Richard Baldwin Ravi Batra Jagdish...\n",
       " 1     Political economy  Samir Amin Giovanni Arrighi Robert W. Cox Andr...\n",
       " 2  Politics / sociology  Arjun Appadurai Daniele Archibugi K. Anthony A...\n",
       " 3          Non–academic  Noam Chomsky Thomas Friedman Naomi Klein John ...,\n",
       "                                        0        1\n",
       " 0  Authority control databases: National  Germany]"
      ]
     },
     "execution_count": 28,
     "metadata": {},
     "output_type": "execute_result"
    }
   ],
   "source": [
    "dataframe_list = pd.read_html(url, flavor='bs4')\n",
    "dataframe_list"
   ]
  },
  {
   "cell_type": "markdown",
   "metadata": {},
   "source": [
    "We can see there are 25 DataFrames just like when we used `find_all` on the `soup` object.\n"
   ]
  },
  {
   "cell_type": "code",
   "execution_count": 29,
   "metadata": {},
   "outputs": [
    {
     "data": {
      "text/plain": [
       "28"
      ]
     },
     "execution_count": 29,
     "metadata": {},
     "output_type": "execute_result"
    }
   ],
   "source": [
    "len(dataframe_list)"
   ]
  },
  {
   "cell_type": "markdown",
   "metadata": {},
   "source": [
    "Finally we can pick the DataFrame we need out of the list.\n"
   ]
  },
  {
   "cell_type": "code",
   "execution_count": 30,
   "metadata": {},
   "outputs": [
    {
     "data": {
      "text/html": [
       "<div>\n",
       "<style scoped>\n",
       "    .dataframe tbody tr th:only-of-type {\n",
       "        vertical-align: middle;\n",
       "    }\n",
       "\n",
       "    .dataframe tbody tr th {\n",
       "        vertical-align: top;\n",
       "    }\n",
       "\n",
       "    .dataframe thead th {\n",
       "        text-align: right;\n",
       "    }\n",
       "</style>\n",
       "<table border=\"1\" class=\"dataframe\">\n",
       "  <thead>\n",
       "    <tr style=\"text-align: right;\">\n",
       "      <th></th>\n",
       "      <th>Country / Dependency</th>\n",
       "      <th>Population</th>\n",
       "      <th>% of world</th>\n",
       "      <th>Date</th>\n",
       "      <th>Source (official or from the United Nations)</th>\n",
       "    </tr>\n",
       "  </thead>\n",
       "  <tbody>\n",
       "    <tr>\n",
       "      <th>0</th>\n",
       "      <td>India</td>\n",
       "      <td>1425775850</td>\n",
       "      <td>17.5%</td>\n",
       "      <td>14 Apr 2023</td>\n",
       "      <td>UN projection[90]</td>\n",
       "    </tr>\n",
       "    <tr>\n",
       "      <th>1</th>\n",
       "      <td>China</td>\n",
       "      <td>1409670000</td>\n",
       "      <td>17.3%</td>\n",
       "      <td>17 Jan 2024</td>\n",
       "      <td>National annual estimate[91]</td>\n",
       "    </tr>\n",
       "    <tr>\n",
       "      <th>2</th>\n",
       "      <td>United States</td>\n",
       "      <td>336879601</td>\n",
       "      <td>4.14%</td>\n",
       "      <td>4 Sep 2024</td>\n",
       "      <td>National population clock[92]</td>\n",
       "    </tr>\n",
       "    <tr>\n",
       "      <th>3</th>\n",
       "      <td>Indonesia</td>\n",
       "      <td>278696200</td>\n",
       "      <td>3.43%</td>\n",
       "      <td>1 Jul 2023</td>\n",
       "      <td>National annual estimate[93]</td>\n",
       "    </tr>\n",
       "    <tr>\n",
       "      <th>4</th>\n",
       "      <td>Pakistan</td>\n",
       "      <td>229488994</td>\n",
       "      <td>2.82%</td>\n",
       "      <td>1 Jul 2022</td>\n",
       "      <td>UN projection[94]</td>\n",
       "    </tr>\n",
       "    <tr>\n",
       "      <th>5</th>\n",
       "      <td>Nigeria</td>\n",
       "      <td>216746934</td>\n",
       "      <td>2.67%</td>\n",
       "      <td>1 Jul 2022</td>\n",
       "      <td>UN projection[94]</td>\n",
       "    </tr>\n",
       "    <tr>\n",
       "      <th>6</th>\n",
       "      <td>Brazil</td>\n",
       "      <td>218123018</td>\n",
       "      <td>2.68%</td>\n",
       "      <td>4 Sep 2024</td>\n",
       "      <td>National population clock[95]</td>\n",
       "    </tr>\n",
       "    <tr>\n",
       "      <th>7</th>\n",
       "      <td>Bangladesh</td>\n",
       "      <td>168220000</td>\n",
       "      <td>2.07%</td>\n",
       "      <td>1 Jul 2020</td>\n",
       "      <td>Annual Population Estimate[96]</td>\n",
       "    </tr>\n",
       "    <tr>\n",
       "      <th>8</th>\n",
       "      <td>Russia</td>\n",
       "      <td>147190000</td>\n",
       "      <td>1.81%</td>\n",
       "      <td>1 Oct 2021</td>\n",
       "      <td>2021 preliminary census results[97]</td>\n",
       "    </tr>\n",
       "    <tr>\n",
       "      <th>9</th>\n",
       "      <td>Mexico</td>\n",
       "      <td>128271248</td>\n",
       "      <td>1.58%</td>\n",
       "      <td>31 Mar 2022</td>\n",
       "      <td>NaN</td>\n",
       "    </tr>\n",
       "  </tbody>\n",
       "</table>\n",
       "</div>"
      ],
      "text/plain": [
       "  Country / Dependency  Population % of world         Date  \\\n",
       "0                India  1425775850      17.5%  14 Apr 2023   \n",
       "1                China  1409670000      17.3%  17 Jan 2024   \n",
       "2        United States   336879601      4.14%   4 Sep 2024   \n",
       "3            Indonesia   278696200      3.43%   1 Jul 2023   \n",
       "4             Pakistan   229488994      2.82%   1 Jul 2022   \n",
       "5              Nigeria   216746934      2.67%   1 Jul 2022   \n",
       "6               Brazil   218123018      2.68%   4 Sep 2024   \n",
       "7           Bangladesh   168220000      2.07%   1 Jul 2020   \n",
       "8               Russia   147190000      1.81%   1 Oct 2021   \n",
       "9               Mexico   128271248      1.58%  31 Mar 2022   \n",
       "\n",
       "  Source (official or from the United Nations)  \n",
       "0                            UN projection[90]  \n",
       "1                 National annual estimate[91]  \n",
       "2                National population clock[92]  \n",
       "3                 National annual estimate[93]  \n",
       "4                            UN projection[94]  \n",
       "5                            UN projection[94]  \n",
       "6                National population clock[95]  \n",
       "7               Annual Population Estimate[96]  \n",
       "8          2021 preliminary census results[97]  \n",
       "9                                          NaN  "
      ]
     },
     "execution_count": 30,
     "metadata": {},
     "output_type": "execute_result"
    }
   ],
   "source": [
    "dataframe_list[5]"
   ]
  },
  {
   "cell_type": "markdown",
   "metadata": {},
   "source": [
    "We can also use the `match` parameter to select the specific table we want. If the table contains a string matching the text it will be read.\n"
   ]
  },
  {
   "cell_type": "code",
   "execution_count": 31,
   "metadata": {},
   "outputs": [
    {
     "data": {
      "text/html": [
       "<div>\n",
       "<style scoped>\n",
       "    .dataframe tbody tr th:only-of-type {\n",
       "        vertical-align: middle;\n",
       "    }\n",
       "\n",
       "    .dataframe tbody tr th {\n",
       "        vertical-align: top;\n",
       "    }\n",
       "\n",
       "    .dataframe thead th {\n",
       "        text-align: right;\n",
       "    }\n",
       "</style>\n",
       "<table border=\"1\" class=\"dataframe\">\n",
       "  <thead>\n",
       "    <tr style=\"text-align: right;\">\n",
       "      <th></th>\n",
       "      <th>Rank</th>\n",
       "      <th>Country</th>\n",
       "      <th>Population</th>\n",
       "      <th>Area (km2)</th>\n",
       "      <th>Density (pop/km2)</th>\n",
       "    </tr>\n",
       "  </thead>\n",
       "  <tbody>\n",
       "    <tr>\n",
       "      <th>0</th>\n",
       "      <td>1</td>\n",
       "      <td>Singapore</td>\n",
       "      <td>5921231</td>\n",
       "      <td>719</td>\n",
       "      <td>8235</td>\n",
       "    </tr>\n",
       "    <tr>\n",
       "      <th>1</th>\n",
       "      <td>2</td>\n",
       "      <td>Bangladesh</td>\n",
       "      <td>165650475</td>\n",
       "      <td>148460</td>\n",
       "      <td>1116</td>\n",
       "    </tr>\n",
       "    <tr>\n",
       "      <th>2</th>\n",
       "      <td>3</td>\n",
       "      <td>Palestine[note 3][101]</td>\n",
       "      <td>5223000</td>\n",
       "      <td>6025</td>\n",
       "      <td>867</td>\n",
       "    </tr>\n",
       "    <tr>\n",
       "      <th>3</th>\n",
       "      <td>4</td>\n",
       "      <td>Taiwan[note 4]</td>\n",
       "      <td>23580712</td>\n",
       "      <td>35980</td>\n",
       "      <td>655</td>\n",
       "    </tr>\n",
       "    <tr>\n",
       "      <th>4</th>\n",
       "      <td>5</td>\n",
       "      <td>South Korea</td>\n",
       "      <td>51844834</td>\n",
       "      <td>99720</td>\n",
       "      <td>520</td>\n",
       "    </tr>\n",
       "    <tr>\n",
       "      <th>5</th>\n",
       "      <td>6</td>\n",
       "      <td>Lebanon</td>\n",
       "      <td>5296814</td>\n",
       "      <td>10400</td>\n",
       "      <td>509</td>\n",
       "    </tr>\n",
       "    <tr>\n",
       "      <th>6</th>\n",
       "      <td>7</td>\n",
       "      <td>Rwanda</td>\n",
       "      <td>13173730</td>\n",
       "      <td>26338</td>\n",
       "      <td>500</td>\n",
       "    </tr>\n",
       "    <tr>\n",
       "      <th>7</th>\n",
       "      <td>8</td>\n",
       "      <td>Burundi</td>\n",
       "      <td>12696478</td>\n",
       "      <td>27830</td>\n",
       "      <td>456</td>\n",
       "    </tr>\n",
       "    <tr>\n",
       "      <th>8</th>\n",
       "      <td>9</td>\n",
       "      <td>Israel</td>\n",
       "      <td>9402617</td>\n",
       "      <td>21937</td>\n",
       "      <td>429</td>\n",
       "    </tr>\n",
       "    <tr>\n",
       "      <th>9</th>\n",
       "      <td>10</td>\n",
       "      <td>India</td>\n",
       "      <td>1389637446</td>\n",
       "      <td>3287263</td>\n",
       "      <td>423</td>\n",
       "    </tr>\n",
       "  </tbody>\n",
       "</table>\n",
       "</div>"
      ],
      "text/plain": [
       "   Rank                 Country  Population  Area (km2)  Density (pop/km2)\n",
       "0     1               Singapore     5921231         719               8235\n",
       "1     2              Bangladesh   165650475      148460               1116\n",
       "2     3  Palestine[note 3][101]     5223000        6025                867\n",
       "3     4          Taiwan[note 4]    23580712       35980                655\n",
       "4     5             South Korea    51844834       99720                520\n",
       "5     6                 Lebanon     5296814       10400                509\n",
       "6     7                  Rwanda    13173730       26338                500\n",
       "7     8                 Burundi    12696478       27830                456\n",
       "8     9                  Israel     9402617       21937                429\n",
       "9    10                   India  1389637446     3287263                423"
      ]
     },
     "execution_count": 31,
     "metadata": {},
     "output_type": "execute_result"
    }
   ],
   "source": [
    "pd.read_html(url, match=\"10 most densely populated countries\", flavor='bs4')[0]"
   ]
  },
  {
   "cell_type": "markdown",
   "metadata": {},
   "source": [
    "## Authors\n"
   ]
  },
  {
   "cell_type": "markdown",
   "metadata": {},
   "source": [
    "Ramesh Sannareddy\n"
   ]
  },
  {
   "cell_type": "markdown",
   "metadata": {},
   "source": [
    "### Other Contributors\n"
   ]
  },
  {
   "cell_type": "markdown",
   "metadata": {},
   "source": [
    "Rav Ahuja\n"
   ]
  },
  {
   "cell_type": "markdown",
   "metadata": {},
   "source": [
    "## Change Log\n"
   ]
  },
  {
   "cell_type": "markdown",
   "metadata": {},
   "source": [
    "| Date (YYYY-MM-DD) | Version | Changed By                                               | Change Description |\n",
    "| ----------------- | ------- | -------------------------------------------------------- | ------------------ |\n",
    "| 2020-10-17        | 0.1     | Joseph Santarcangelo  Created initial version of the lab |                    |\n"
   ]
  },
  {
   "cell_type": "markdown",
   "metadata": {},
   "source": [
    " Copyright © 2020 IBM Corporation. This notebook and its source code are released under the terms of the [MIT License](https://cognitiveclass.ai/mit-license?cm_mmc=Email_Newsletter-_-Developer_Ed%2BTech-_-WW_WW-_-SkillsNetwork-Courses-IBMDeveloperSkillsNetwork-PY0101EN-SkillsNetwork-19487395&cm_mmca1=000026UJ&cm_mmca2=10006555&cm_mmca3=M12345678&cvosrc=email.Newsletter.M12345678&cvo_campaign=000026UJ&cm_mmc=Email_Newsletter-_-Developer_Ed%2BTech-_-WW_WW-_-SkillsNetwork-Courses-IBMDeveloperSkillsNetwork-PY0101EN-SkillsNetwork-19487395&cm_mmca1=000026UJ&cm_mmca2=10006555&cm_mmca3=M12345678&cvosrc=email.Newsletter.M12345678&cvo_campaign=000026UJ&cm_mmc=Email_Newsletter-_-Developer_Ed%2BTech-_-WW_WW-_-SkillsNetwork-Courses-IBMDeveloperSkillsNetwork-PY0101EN-SkillsNetwork-19487395&cm_mmca1=000026UJ&cm_mmca2=10006555&cm_mmca3=M12345678&cvosrc=email.Newsletter.M12345678&cvo_campaign=000026UJ&cm_mmc=Email_Newsletter-_-Developer_Ed%2BTech-_-WW_WW-_-SkillsNetwork-Courses-IBMDeveloperSkillsNetwork-PY0101EN-SkillsNetwork-19487395&cm_mmca1=000026UJ&cm_mmca2=10006555&cm_mmca3=M12345678&cvosrc=email.Newsletter.M12345678&cvo_campaign=000026UJ&cm_mmc=Email_Newsletter-_-Developer_Ed%2BTech-_-WW_WW-_-SkillsNetwork-Courses-IBMDeveloperSkillsNetwork-PY0220EN-SkillsNetwork-23455606&cm_mmca1=000026UJ&cm_mmca2=10006555&cm_mmca3=M12345678&cvosrc=email.Newsletter.M12345678&cvo_campaign=000026UJ&cm_mmc=Email_Newsletter-_-Developer_Ed%2BTech-_-WW_WW-_-SkillsNetwork-Courses-IBMDeveloperSkillsNetwork-PY0220EN-SkillsNetwork-23455606&cm_mmca1=000026UJ&cm_mmca2=10006555&cm_mmca3=M12345678&cvosrc=email.Newsletter.M12345678&cvo_campaign=000026UJ).\n"
   ]
  }
 ],
 "metadata": {
  "kernelspec": {
   "display_name": "Python 3 (ipykernel)",
   "language": "python",
   "name": "python3"
  },
  "language_info": {
   "codemirror_mode": {
    "name": "ipython",
    "version": 3
   },
   "file_extension": ".py",
   "mimetype": "text/x-python",
   "name": "python",
   "nbconvert_exporter": "python",
   "pygments_lexer": "ipython3",
   "version": "3.11.7"
  }
 },
 "nbformat": 4,
 "nbformat_minor": 4
}
